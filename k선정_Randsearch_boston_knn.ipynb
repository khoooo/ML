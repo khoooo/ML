{
 "cells": [
  {
   "cell_type": "markdown",
   "id": "ada5a929",
   "metadata": {},
   "source": [
    "- 파라미터를 주고 그 중 일부만 실행\n",
    "- random 에서 나온 best_param 를 기준 (+- 3~4)개로 **GridSearch** 실행함"
   ]
  },
  {
   "cell_type": "markdown",
   "id": "02288dcf",
   "metadata": {},
   "source": [
    "--------"
   ]
  },
  {
   "cell_type": "markdown",
   "id": "3ddc12ab",
   "metadata": {},
   "source": [
    "# 1. 환경준비"
   ]
  },
  {
   "cell_type": "code",
   "execution_count": 50,
   "id": "3106b400",
   "metadata": {},
   "outputs": [],
   "source": [
    "import numpy as np\n",
    "import pandas as pd\n",
    "import matplotlib.pyplot as plt\n",
    "import seaborn as sns"
   ]
  },
  {
   "cell_type": "code",
   "execution_count": 51,
   "id": "c114a662",
   "metadata": {},
   "outputs": [],
   "source": [
    "path = 'https://raw.githubusercontent.com/jangrae/csv/master/boston.csv'\n",
    "data = pd.read_csv(path)"
   ]
  },
  {
   "cell_type": "markdown",
   "id": "50ecbcf5",
   "metadata": {},
   "source": [
    "# 2. 데이터 이해"
   ]
  },
  {
   "cell_type": "code",
   "execution_count": 52,
   "id": "2633ce13",
   "metadata": {},
   "outputs": [
    {
     "data": {
      "text/html": [
       "<div>\n",
       "<style scoped>\n",
       "    .dataframe tbody tr th:only-of-type {\n",
       "        vertical-align: middle;\n",
       "    }\n",
       "\n",
       "    .dataframe tbody tr th {\n",
       "        vertical-align: top;\n",
       "    }\n",
       "\n",
       "    .dataframe thead th {\n",
       "        text-align: right;\n",
       "    }\n",
       "</style>\n",
       "<table border=\"1\" class=\"dataframe\">\n",
       "  <thead>\n",
       "    <tr style=\"text-align: right;\">\n",
       "      <th></th>\n",
       "      <th>crim</th>\n",
       "      <th>zn</th>\n",
       "      <th>indus</th>\n",
       "      <th>chas</th>\n",
       "      <th>nox</th>\n",
       "      <th>rm</th>\n",
       "      <th>age</th>\n",
       "      <th>dis</th>\n",
       "      <th>rad</th>\n",
       "      <th>tax</th>\n",
       "      <th>ptratio</th>\n",
       "      <th>black</th>\n",
       "      <th>lstat</th>\n",
       "      <th>medv</th>\n",
       "    </tr>\n",
       "  </thead>\n",
       "  <tbody>\n",
       "    <tr>\n",
       "      <th>0</th>\n",
       "      <td>0.00632</td>\n",
       "      <td>18.0</td>\n",
       "      <td>2.31</td>\n",
       "      <td>0</td>\n",
       "      <td>0.538</td>\n",
       "      <td>6.575</td>\n",
       "      <td>65.2</td>\n",
       "      <td>4.0900</td>\n",
       "      <td>1</td>\n",
       "      <td>296</td>\n",
       "      <td>15.3</td>\n",
       "      <td>396.90</td>\n",
       "      <td>4.98</td>\n",
       "      <td>24.0</td>\n",
       "    </tr>\n",
       "    <tr>\n",
       "      <th>1</th>\n",
       "      <td>0.02731</td>\n",
       "      <td>0.0</td>\n",
       "      <td>7.07</td>\n",
       "      <td>0</td>\n",
       "      <td>0.469</td>\n",
       "      <td>6.421</td>\n",
       "      <td>78.9</td>\n",
       "      <td>4.9671</td>\n",
       "      <td>2</td>\n",
       "      <td>242</td>\n",
       "      <td>17.8</td>\n",
       "      <td>396.90</td>\n",
       "      <td>9.14</td>\n",
       "      <td>21.6</td>\n",
       "    </tr>\n",
       "    <tr>\n",
       "      <th>2</th>\n",
       "      <td>0.02729</td>\n",
       "      <td>0.0</td>\n",
       "      <td>7.07</td>\n",
       "      <td>0</td>\n",
       "      <td>0.469</td>\n",
       "      <td>7.185</td>\n",
       "      <td>61.1</td>\n",
       "      <td>4.9671</td>\n",
       "      <td>2</td>\n",
       "      <td>242</td>\n",
       "      <td>17.8</td>\n",
       "      <td>392.83</td>\n",
       "      <td>4.03</td>\n",
       "      <td>34.7</td>\n",
       "    </tr>\n",
       "  </tbody>\n",
       "</table>\n",
       "</div>"
      ],
      "text/plain": [
       "      crim    zn  indus  chas    nox     rm   age     dis  rad  tax  ptratio  \\\n",
       "0  0.00632  18.0   2.31     0  0.538  6.575  65.2  4.0900    1  296     15.3   \n",
       "1  0.02731   0.0   7.07     0  0.469  6.421  78.9  4.9671    2  242     17.8   \n",
       "2  0.02729   0.0   7.07     0  0.469  7.185  61.1  4.9671    2  242     17.8   \n",
       "\n",
       "    black  lstat  medv  \n",
       "0  396.90   4.98  24.0  \n",
       "1  396.90   9.14  21.6  \n",
       "2  392.83   4.03  34.7  "
      ]
     },
     "execution_count": 52,
     "metadata": {},
     "output_type": "execute_result"
    }
   ],
   "source": [
    "data.head(3)"
   ]
  },
  {
   "cell_type": "code",
   "execution_count": 53,
   "id": "280251a5",
   "metadata": {},
   "outputs": [
    {
     "data": {
      "text/html": [
       "<div>\n",
       "<style scoped>\n",
       "    .dataframe tbody tr th:only-of-type {\n",
       "        vertical-align: middle;\n",
       "    }\n",
       "\n",
       "    .dataframe tbody tr th {\n",
       "        vertical-align: top;\n",
       "    }\n",
       "\n",
       "    .dataframe thead th {\n",
       "        text-align: right;\n",
       "    }\n",
       "</style>\n",
       "<table border=\"1\" class=\"dataframe\">\n",
       "  <thead>\n",
       "    <tr style=\"text-align: right;\">\n",
       "      <th></th>\n",
       "      <th>crim</th>\n",
       "      <th>zn</th>\n",
       "      <th>indus</th>\n",
       "      <th>chas</th>\n",
       "      <th>nox</th>\n",
       "      <th>rm</th>\n",
       "      <th>age</th>\n",
       "      <th>dis</th>\n",
       "      <th>rad</th>\n",
       "      <th>tax</th>\n",
       "      <th>ptratio</th>\n",
       "      <th>black</th>\n",
       "      <th>lstat</th>\n",
       "      <th>medv</th>\n",
       "    </tr>\n",
       "  </thead>\n",
       "  <tbody>\n",
       "    <tr>\n",
       "      <th>count</th>\n",
       "      <td>506.000000</td>\n",
       "      <td>506.000000</td>\n",
       "      <td>506.000000</td>\n",
       "      <td>506.000000</td>\n",
       "      <td>506.000000</td>\n",
       "      <td>506.000000</td>\n",
       "      <td>506.000000</td>\n",
       "      <td>506.000000</td>\n",
       "      <td>506.000000</td>\n",
       "      <td>506.000000</td>\n",
       "      <td>506.000000</td>\n",
       "      <td>506.000000</td>\n",
       "      <td>506.000000</td>\n",
       "      <td>506.000000</td>\n",
       "    </tr>\n",
       "    <tr>\n",
       "      <th>mean</th>\n",
       "      <td>3.613524</td>\n",
       "      <td>11.363636</td>\n",
       "      <td>11.136779</td>\n",
       "      <td>0.069170</td>\n",
       "      <td>0.554695</td>\n",
       "      <td>6.284634</td>\n",
       "      <td>68.574901</td>\n",
       "      <td>3.795043</td>\n",
       "      <td>9.549407</td>\n",
       "      <td>408.237154</td>\n",
       "      <td>18.455534</td>\n",
       "      <td>356.674032</td>\n",
       "      <td>12.653063</td>\n",
       "      <td>22.532806</td>\n",
       "    </tr>\n",
       "    <tr>\n",
       "      <th>std</th>\n",
       "      <td>8.601545</td>\n",
       "      <td>23.322453</td>\n",
       "      <td>6.860353</td>\n",
       "      <td>0.253994</td>\n",
       "      <td>0.115878</td>\n",
       "      <td>0.702617</td>\n",
       "      <td>28.148861</td>\n",
       "      <td>2.105710</td>\n",
       "      <td>8.707259</td>\n",
       "      <td>168.537116</td>\n",
       "      <td>2.164946</td>\n",
       "      <td>91.294864</td>\n",
       "      <td>7.141062</td>\n",
       "      <td>9.197104</td>\n",
       "    </tr>\n",
       "    <tr>\n",
       "      <th>min</th>\n",
       "      <td>0.006320</td>\n",
       "      <td>0.000000</td>\n",
       "      <td>0.460000</td>\n",
       "      <td>0.000000</td>\n",
       "      <td>0.385000</td>\n",
       "      <td>3.561000</td>\n",
       "      <td>2.900000</td>\n",
       "      <td>1.129600</td>\n",
       "      <td>1.000000</td>\n",
       "      <td>187.000000</td>\n",
       "      <td>12.600000</td>\n",
       "      <td>0.320000</td>\n",
       "      <td>1.730000</td>\n",
       "      <td>5.000000</td>\n",
       "    </tr>\n",
       "    <tr>\n",
       "      <th>25%</th>\n",
       "      <td>0.082045</td>\n",
       "      <td>0.000000</td>\n",
       "      <td>5.190000</td>\n",
       "      <td>0.000000</td>\n",
       "      <td>0.449000</td>\n",
       "      <td>5.885500</td>\n",
       "      <td>45.025000</td>\n",
       "      <td>2.100175</td>\n",
       "      <td>4.000000</td>\n",
       "      <td>279.000000</td>\n",
       "      <td>17.400000</td>\n",
       "      <td>375.377500</td>\n",
       "      <td>6.950000</td>\n",
       "      <td>17.025000</td>\n",
       "    </tr>\n",
       "    <tr>\n",
       "      <th>50%</th>\n",
       "      <td>0.256510</td>\n",
       "      <td>0.000000</td>\n",
       "      <td>9.690000</td>\n",
       "      <td>0.000000</td>\n",
       "      <td>0.538000</td>\n",
       "      <td>6.208500</td>\n",
       "      <td>77.500000</td>\n",
       "      <td>3.207450</td>\n",
       "      <td>5.000000</td>\n",
       "      <td>330.000000</td>\n",
       "      <td>19.050000</td>\n",
       "      <td>391.440000</td>\n",
       "      <td>11.360000</td>\n",
       "      <td>21.200000</td>\n",
       "    </tr>\n",
       "    <tr>\n",
       "      <th>75%</th>\n",
       "      <td>3.677083</td>\n",
       "      <td>12.500000</td>\n",
       "      <td>18.100000</td>\n",
       "      <td>0.000000</td>\n",
       "      <td>0.624000</td>\n",
       "      <td>6.623500</td>\n",
       "      <td>94.075000</td>\n",
       "      <td>5.188425</td>\n",
       "      <td>24.000000</td>\n",
       "      <td>666.000000</td>\n",
       "      <td>20.200000</td>\n",
       "      <td>396.225000</td>\n",
       "      <td>16.955000</td>\n",
       "      <td>25.000000</td>\n",
       "    </tr>\n",
       "    <tr>\n",
       "      <th>max</th>\n",
       "      <td>88.976200</td>\n",
       "      <td>100.000000</td>\n",
       "      <td>27.740000</td>\n",
       "      <td>1.000000</td>\n",
       "      <td>0.871000</td>\n",
       "      <td>8.780000</td>\n",
       "      <td>100.000000</td>\n",
       "      <td>12.126500</td>\n",
       "      <td>24.000000</td>\n",
       "      <td>711.000000</td>\n",
       "      <td>22.000000</td>\n",
       "      <td>396.900000</td>\n",
       "      <td>37.970000</td>\n",
       "      <td>50.000000</td>\n",
       "    </tr>\n",
       "  </tbody>\n",
       "</table>\n",
       "</div>"
      ],
      "text/plain": [
       "             crim          zn       indus        chas         nox          rm  \\\n",
       "count  506.000000  506.000000  506.000000  506.000000  506.000000  506.000000   \n",
       "mean     3.613524   11.363636   11.136779    0.069170    0.554695    6.284634   \n",
       "std      8.601545   23.322453    6.860353    0.253994    0.115878    0.702617   \n",
       "min      0.006320    0.000000    0.460000    0.000000    0.385000    3.561000   \n",
       "25%      0.082045    0.000000    5.190000    0.000000    0.449000    5.885500   \n",
       "50%      0.256510    0.000000    9.690000    0.000000    0.538000    6.208500   \n",
       "75%      3.677083   12.500000   18.100000    0.000000    0.624000    6.623500   \n",
       "max     88.976200  100.000000   27.740000    1.000000    0.871000    8.780000   \n",
       "\n",
       "              age         dis         rad         tax     ptratio       black  \\\n",
       "count  506.000000  506.000000  506.000000  506.000000  506.000000  506.000000   \n",
       "mean    68.574901    3.795043    9.549407  408.237154   18.455534  356.674032   \n",
       "std     28.148861    2.105710    8.707259  168.537116    2.164946   91.294864   \n",
       "min      2.900000    1.129600    1.000000  187.000000   12.600000    0.320000   \n",
       "25%     45.025000    2.100175    4.000000  279.000000   17.400000  375.377500   \n",
       "50%     77.500000    3.207450    5.000000  330.000000   19.050000  391.440000   \n",
       "75%     94.075000    5.188425   24.000000  666.000000   20.200000  396.225000   \n",
       "max    100.000000   12.126500   24.000000  711.000000   22.000000  396.900000   \n",
       "\n",
       "            lstat        medv  \n",
       "count  506.000000  506.000000  \n",
       "mean    12.653063   22.532806  \n",
       "std      7.141062    9.197104  \n",
       "min      1.730000    5.000000  \n",
       "25%      6.950000   17.025000  \n",
       "50%     11.360000   21.200000  \n",
       "75%     16.955000   25.000000  \n",
       "max     37.970000   50.000000  "
      ]
     },
     "execution_count": 53,
     "metadata": {},
     "output_type": "execute_result"
    }
   ],
   "source": [
    "data.describe()"
   ]
  },
  {
   "cell_type": "markdown",
   "id": "b3040aad",
   "metadata": {},
   "source": [
    "# 3. 데이터 준비"
   ]
  },
  {
   "cell_type": "markdown",
   "id": "7406c435",
   "metadata": {},
   "source": [
    "#### 1) x,y 분리"
   ]
  },
  {
   "cell_type": "code",
   "execution_count": 54,
   "id": "caa8457c",
   "metadata": {},
   "outputs": [
    {
     "name": "stdout",
     "output_type": "stream",
     "text": [
      "<class 'pandas.core.frame.DataFrame'>\n",
      "<class 'pandas.core.series.Series'>\n"
     ]
    }
   ],
   "source": [
    "target = 'medv'\n",
    "\n",
    "x = data.drop(target,axis=1)\n",
    "y = data[target]\n",
    "\n",
    "print(type(x))\n",
    "print(type(y))"
   ]
  },
  {
   "cell_type": "markdown",
   "id": "85b0f644",
   "metadata": {},
   "source": [
    "#### 2) 정규화"
   ]
  },
  {
   "cell_type": "code",
   "execution_count": 55,
   "id": "7fbfd1de",
   "metadata": {},
   "outputs": [],
   "source": [
    "x = (x - x.min()) / (x.max() - x.min())"
   ]
  },
  {
   "cell_type": "markdown",
   "id": "72df47d9",
   "metadata": {},
   "source": [
    "#### 3) train,test 분리"
   ]
  },
  {
   "cell_type": "code",
   "execution_count": 56,
   "id": "a1b2344d",
   "metadata": {},
   "outputs": [],
   "source": [
    "from sklearn.model_selection import train_test_split\n",
    "\n",
    "x_train, x_test, y_train, y_test = train_test_split(x, y, test_size=0.3, \n",
    "                                                    random_state=2022)"
   ]
  },
  {
   "cell_type": "markdown",
   "id": "8df90de7",
   "metadata": {},
   "source": [
    "# 4. 모델링"
   ]
  },
  {
   "cell_type": "code",
   "execution_count": 57,
   "id": "ae0ae5ed",
   "metadata": {},
   "outputs": [],
   "source": [
    "# 불러오기\n",
    "from sklearn.neighbors import KNeighborsRegressor\n",
    "from sklearn.metrics import mean_absolute_error, r2_score"
   ]
  },
  {
   "cell_type": "code",
   "execution_count": 58,
   "id": "3be71695",
   "metadata": {},
   "outputs": [],
   "source": [
    "# 선언하기\n",
    "model = KNeighborsRegressor(n_neighbors=5)"
   ]
  },
  {
   "cell_type": "code",
   "execution_count": 59,
   "id": "bb894c50",
   "metadata": {},
   "outputs": [
    {
     "data": {
      "text/plain": [
       "KNeighborsRegressor()"
      ]
     },
     "execution_count": 59,
     "metadata": {},
     "output_type": "execute_result"
    }
   ],
   "source": [
    "# 학습하기\n",
    "model.fit(x_train,y_train)"
   ]
  },
  {
   "cell_type": "code",
   "execution_count": 60,
   "id": "bbbcc7c1",
   "metadata": {},
   "outputs": [],
   "source": [
    "# 예측하기\n",
    "y_pred = model.predict(x_test)"
   ]
  },
  {
   "cell_type": "code",
   "execution_count": 61,
   "id": "f28f6aa0",
   "metadata": {},
   "outputs": [
    {
     "name": "stdout",
     "output_type": "stream",
     "text": [
      "MAE : 3.0527631578947365\n",
      "r2-score : 0.7860470863341451\n"
     ]
    }
   ],
   "source": [
    "# 평가하기\n",
    "print('MAE :', mean_absolute_error(y_test,y_pred))\n",
    "print('r2-score :', r2_score(y_test,y_pred))"
   ]
  },
  {
   "cell_type": "code",
   "execution_count": 62,
   "id": "d6abdd5c",
   "metadata": {},
   "outputs": [
    {
     "data": {
      "text/plain": [
       "{'algorithm': 'auto',\n",
       " 'leaf_size': 30,\n",
       " 'metric': 'minkowski',\n",
       " 'metric_params': None,\n",
       " 'n_jobs': None,\n",
       " 'n_neighbors': 5,\n",
       " 'p': 2,\n",
       " 'weights': 'uniform'}"
      ]
     },
     "execution_count": 62,
     "metadata": {},
     "output_type": "execute_result"
    }
   ],
   "source": [
    "# 파라미터 종류\n",
    "\n",
    "model.get_params()"
   ]
  },
  {
   "cell_type": "markdown",
   "id": "c4ee7c03",
   "metadata": {},
   "source": [
    "# 5. 성능튜닝"
   ]
  },
  {
   "cell_type": "markdown",
   "id": "19c0f9ee",
   "metadata": {},
   "source": [
    "#### Random Search"
   ]
  },
  {
   "cell_type": "markdown",
   "id": "c2822152",
   "metadata": {},
   "source": [
    "#### 1) 모델링 & 튜닝"
   ]
  },
  {
   "cell_type": "code",
   "execution_count": 63,
   "id": "a2d307cb",
   "metadata": {},
   "outputs": [
    {
     "data": {
      "text/plain": [
       "{'n_neighbors': range(1, 51)}"
      ]
     },
     "execution_count": 63,
     "metadata": {},
     "output_type": "execute_result"
    }
   ],
   "source": [
    "# 파라미터 선언\n",
    "\n",
    "param = {'n_neighbors' : range(1,51,1)}\n",
    "param"
   ]
  },
  {
   "cell_type": "code",
   "execution_count": 64,
   "id": "72238d71",
   "metadata": {},
   "outputs": [],
   "source": [
    "# 불러오기\n",
    "\n",
    "from sklearn.model_selection import RandomizedSearchCV"
   ]
  },
  {
   "cell_type": "code",
   "execution_count": 65,
   "id": "e0cd68da",
   "metadata": {},
   "outputs": [],
   "source": [
    "# 선언하기\n",
    "\n",
    "model_knn = KNeighborsRegressor()\n",
    "\n",
    "model = RandomizedSearchCV(model_knn,         # 기본 모델 이름\n",
    "                           param,             # 파라미터 변수    \n",
    "                           cv=10,             # k-fold cross validation (k)\n",
    "                           n_iter=20,         # random하게 시도할 횟수\n",
    "                           scoring='r2')      # 평가 방법"
   ]
  },
  {
   "cell_type": "code",
   "execution_count": 66,
   "id": "61b643a7",
   "metadata": {},
   "outputs": [
    {
     "data": {
      "text/plain": [
       "RandomizedSearchCV(cv=10, estimator=KNeighborsRegressor(), n_iter=20,\n",
       "                   param_distributions={'n_neighbors': range(1, 51)},\n",
       "                   scoring='r2')"
      ]
     },
     "execution_count": 66,
     "metadata": {},
     "output_type": "execute_result"
    }
   ],
   "source": [
    "model.fit(x_train,y_train)"
   ]
  },
  {
   "cell_type": "markdown",
   "id": "81948514",
   "metadata": {},
   "source": [
    "#### 2) 결과 확인"
   ]
  },
  {
   "cell_type": "code",
   "execution_count": 67,
   "id": "cee0d8f7",
   "metadata": {
    "collapsed": true
   },
   "outputs": [
    {
     "data": {
      "text/plain": [
       "{'mean_fit_time': array([0.00348628, 0.00319672, 0.00268195, 0.00224774, 0.00236332,\n",
       "        0.00286224, 0.00310841, 0.0035862 , 0.00317822, 0.00274007,\n",
       "        0.00269275, 0.00282776, 0.00268977, 0.0030045 , 0.00391102,\n",
       "        0.00371966, 0.00325253, 0.00270784, 0.00244536, 0.00258081]),\n",
       " 'std_fit_time': array([0.00093285, 0.00037048, 0.00041282, 0.00035853, 0.00045055,\n",
       "        0.00050534, 0.00068409, 0.00069618, 0.00164721, 0.00046877,\n",
       "        0.00061238, 0.00042936, 0.00043602, 0.00089896, 0.00056657,\n",
       "        0.00060733, 0.00038776, 0.00064774, 0.00060597, 0.00047725]),\n",
       " 'mean_score_time': array([0.00277357, 0.00254662, 0.00236406, 0.00257404, 0.00260363,\n",
       "        0.00281129, 0.00283377, 0.00329797, 0.00270331, 0.00265718,\n",
       "        0.00269253, 0.00277863, 0.00269296, 0.00298524, 0.00353842,\n",
       "        0.0030669 , 0.00315793, 0.00267985, 0.00265694, 0.00271065]),\n",
       " 'std_score_time': array([6.01961463e-04, 6.05874536e-04, 5.57505356e-04, 4.45156922e-04,\n",
       "        4.90517858e-04, 6.16124106e-04, 4.74073940e-04, 4.39390953e-04,\n",
       "        4.66253720e-04, 8.14087638e-04, 4.58652050e-04, 3.90471671e-04,\n",
       "        4.38322795e-04, 3.28900137e-05, 5.59451427e-04, 3.13714012e-04,\n",
       "        5.55971199e-04, 4.46695777e-04, 6.19338975e-04, 8.19366100e-04]),\n",
       " 'param_n_neighbors': masked_array(data=[13, 20, 14, 21, 25, 16, 26, 18, 38, 31, 22, 17, 29, 41,\n",
       "                    4, 10, 39, 50, 19, 6],\n",
       "              mask=[False, False, False, False, False, False, False, False,\n",
       "                    False, False, False, False, False, False, False, False,\n",
       "                    False, False, False, False],\n",
       "        fill_value='?',\n",
       "             dtype=object),\n",
       " 'params': [{'n_neighbors': 13},\n",
       "  {'n_neighbors': 20},\n",
       "  {'n_neighbors': 14},\n",
       "  {'n_neighbors': 21},\n",
       "  {'n_neighbors': 25},\n",
       "  {'n_neighbors': 16},\n",
       "  {'n_neighbors': 26},\n",
       "  {'n_neighbors': 18},\n",
       "  {'n_neighbors': 38},\n",
       "  {'n_neighbors': 31},\n",
       "  {'n_neighbors': 22},\n",
       "  {'n_neighbors': 17},\n",
       "  {'n_neighbors': 29},\n",
       "  {'n_neighbors': 41},\n",
       "  {'n_neighbors': 4},\n",
       "  {'n_neighbors': 10},\n",
       "  {'n_neighbors': 39},\n",
       "  {'n_neighbors': 50},\n",
       "  {'n_neighbors': 19},\n",
       "  {'n_neighbors': 6}],\n",
       " 'split0_test_score': array([0.42727123, 0.41785777, 0.42526491, 0.4192891 , 0.40958253,\n",
       "        0.42432733, 0.40448818, 0.43328291, 0.35950422, 0.38686553,\n",
       "        0.41301   , 0.42473355, 0.39008421, 0.33947742, 0.40716976,\n",
       "        0.46324102, 0.35350187, 0.29176289, 0.42530047, 0.3267763 ]),\n",
       " 'split1_test_score': array([0.67987817, 0.70806253, 0.68652745, 0.71736897, 0.72008135,\n",
       "        0.6909473 , 0.71722708, 0.70811265, 0.67108836, 0.69827141,\n",
       "        0.7150049 , 0.68091182, 0.70909318, 0.65102942, 0.72424971,\n",
       "        0.68497386, 0.66425652, 0.59108182, 0.70358408, 0.68566015]),\n",
       " 'split2_test_score': array([0.61706496, 0.59912173, 0.61331806, 0.58965344, 0.5742471 ,\n",
       "        0.63137512, 0.57019376, 0.61077079, 0.58745619, 0.58989028,\n",
       "        0.60188665, 0.61918087, 0.58018611, 0.56553222, 0.72428508,\n",
       "        0.61169149, 0.57693392, 0.52165291, 0.5978132 , 0.64834011]),\n",
       " 'split3_test_score': array([0.77051445, 0.68756302, 0.74920301, 0.69082558, 0.6930396 ,\n",
       "        0.69679288, 0.70318206, 0.68387759, 0.56162176, 0.62498076,\n",
       "        0.69719873, 0.67182772, 0.65147829, 0.56043653, 0.84577419,\n",
       "        0.75193484, 0.55724996, 0.5245626 , 0.68848941, 0.63980426]),\n",
       " 'split4_test_score': array([0.45966858, 0.37434341, 0.44767703, 0.3680346 , 0.36410577,\n",
       "        0.40181877, 0.3551176 , 0.40089272, 0.27035981, 0.32903798,\n",
       "        0.35730442, 0.39322303, 0.34258968, 0.25703256, 0.63986265,\n",
       "        0.49973106, 0.2687519 , 0.19086631, 0.3941163 , 0.62502795]),\n",
       " 'split5_test_score': array([0.59660758, 0.62855263, 0.61207049, 0.64037815, 0.63949894,\n",
       "        0.62591287, 0.63680868, 0.62201058, 0.61788446, 0.62626725,\n",
       "        0.63483998, 0.61248284, 0.64405796, 0.61599859, 0.57094315,\n",
       "        0.54605874, 0.61944322, 0.59858891, 0.63118737, 0.39784416]),\n",
       " 'split6_test_score': array([0.58062946, 0.52454943, 0.55964467, 0.51417169, 0.50291928,\n",
       "        0.53874677, 0.48962801, 0.52290495, 0.50314766, 0.50089633,\n",
       "        0.50828485, 0.54654563, 0.50472995, 0.49081929, 0.72191733,\n",
       "        0.54557103, 0.50619035, 0.47105378, 0.52759045, 0.6283829 ]),\n",
       " 'split7_test_score': array([0.47990777, 0.42254963, 0.46525029, 0.42944622, 0.42572079,\n",
       "        0.47760423, 0.41375666, 0.44320201, 0.32919569, 0.36584047,\n",
       "        0.42803966, 0.45640847, 0.38824062, 0.31778345, 0.51809897,\n",
       "        0.48000488, 0.32506614, 0.27799938, 0.42706976, 0.51237146]),\n",
       " 'split8_test_score': array([0.58373932, 0.55070908, 0.53331418, 0.54390414, 0.53602524,\n",
       "        0.52240768, 0.54268504, 0.55307411, 0.48170833, 0.53224143,\n",
       "        0.53463994, 0.53955859, 0.54373539, 0.47581906, 0.77755334,\n",
       "        0.64931515, 0.47618456, 0.40771246, 0.5515386 , 0.75265507]),\n",
       " 'split9_test_score': array([0.73126159, 0.69817987, 0.71994061, 0.69944668, 0.66899734,\n",
       "        0.70361741, 0.66705946, 0.7113251 , 0.56307418, 0.62376234,\n",
       "        0.6813    , 0.70850168, 0.6465353 , 0.53493687, 0.85712109,\n",
       "        0.74834321, 0.55364798, 0.46431255, 0.70534317, 0.82770311]),\n",
       " 'mean_test_score': array([0.59265431, 0.56114891, 0.58122107, 0.56125186, 0.55342179,\n",
       "        0.57135504, 0.55001465, 0.56894534, 0.49450407, 0.52780538,\n",
       "        0.55715091, 0.56533742, 0.54007307, 0.48088654, 0.67869753,\n",
       "        0.59808653, 0.49012264, 0.43395936, 0.56520328, 0.60445655]),\n",
       " 'std_test_score': array([0.10818426, 0.11764937, 0.10904061, 0.12029292, 0.12006673,\n",
       "        0.10803579, 0.12429379, 0.11056366, 0.12660268, 0.12149389,\n",
       "        0.12176236, 0.10610912, 0.12269761, 0.12666984, 0.1371793 ,\n",
       "        0.10191683, 0.12589301, 0.13202775, 0.11354782, 0.14520379]),\n",
       " 'rank_test_score': array([ 4, 11,  5, 10, 13,  6, 14,  7, 17, 16, 12,  8, 15, 19,  1,  3, 18,\n",
       "        20,  9,  2])}"
      ]
     },
     "execution_count": 67,
     "metadata": {},
     "output_type": "execute_result"
    }
   ],
   "source": [
    "model.cv_results_"
   ]
  },
  {
   "cell_type": "code",
   "execution_count": 68,
   "id": "43523c9f",
   "metadata": {},
   "outputs": [
    {
     "data": {
      "text/plain": [
       "array([13, 20, 14, 21, 25, 16, 26, 18, 38, 31, 22, 17, 29, 41, 4, 10, 39,\n",
       "       50, 19, 6], dtype=object)"
      ]
     },
     "execution_count": 68,
     "metadata": {},
     "output_type": "execute_result"
    }
   ],
   "source": [
    "model.cv_results_['param_n_neighbors'].data"
   ]
  },
  {
   "cell_type": "code",
   "execution_count": 69,
   "id": "a4f44aee",
   "metadata": {},
   "outputs": [
    {
     "data": {
      "text/plain": [
       "array([0.59265431, 0.56114891, 0.58122107, 0.56125186, 0.55342179,\n",
       "       0.57135504, 0.55001465, 0.56894534, 0.49450407, 0.52780538,\n",
       "       0.55715091, 0.56533742, 0.54007307, 0.48088654, 0.67869753,\n",
       "       0.59808653, 0.49012264, 0.43395936, 0.56520328, 0.60445655])"
      ]
     },
     "execution_count": 69,
     "metadata": {},
     "output_type": "execute_result"
    }
   ],
   "source": [
    "# 20개의 평균 확인\n",
    "\n",
    "model.cv_results_['mean_test_score']"
   ]
  },
  {
   "cell_type": "code",
   "execution_count": 70,
   "id": "00906c6d",
   "metadata": {},
   "outputs": [
    {
     "data": {
      "text/plain": [
       "{'n_neighbors': 4}"
      ]
     },
     "execution_count": 70,
     "metadata": {},
     "output_type": "execute_result"
    }
   ],
   "source": [
    "# 최적의 파라미터\n",
    "\n",
    "model.best_params_"
   ]
  },
  {
   "cell_type": "code",
   "execution_count": 71,
   "id": "d8d038c8",
   "metadata": {},
   "outputs": [
    {
     "data": {
      "text/plain": [
       "0.6786975267065173"
      ]
     },
     "execution_count": 71,
     "metadata": {},
     "output_type": "execute_result"
    }
   ],
   "source": [
    "# 최고의 성능\n",
    "\n",
    "model.best_score_"
   ]
  },
  {
   "cell_type": "code",
   "execution_count": 80,
   "id": "7e0d71c6",
   "metadata": {},
   "outputs": [
    {
     "name": "stdout",
     "output_type": "stream",
     "text": [
      "{'n_neighbors': 4}\n"
     ]
    },
    {
     "data": {
      "image/png": "[encoded data removed]",
      "text/plain": [
       "<Figure size 720x360 with 1 Axes>"
      ]
     },
     "metadata": {
      "needs_background": "light"
     },
     "output_type": "display_data"
    }
   ],
   "source": [
    "# 파라미터 시각화\n",
    "\n",
    "tmp = pd.DataFrame()\n",
    "tmp['neighbors'] = model.cv_results_['param_n_neighbors'].data\n",
    "tmp['score'] = model.cv_results_['mean_test_score']\n",
    "\n",
    "tmp.sort_values('neighbors', ascending=True, inplace=True)\n",
    "print(model.best_params_)\n",
    "\n",
    "plt.figure(figsize=(10,5))\n",
    "plt.plot(tmp['neighbors'], tmp['score'])\n",
    "plt.axvline(model.best_params_['n_neighbors'], color='r')\n",
    "plt.show()"
   ]
  },
  {
   "cell_type": "markdown",
   "id": "305189c8",
   "metadata": {},
   "source": [
    "#### 3) 예측과 평가\n",
    " - 실전 평가와 비교"
   ]
  },
  {
   "cell_type": "code",
   "execution_count": 72,
   "id": "a42f539b",
   "metadata": {},
   "outputs": [],
   "source": [
    "# 예측하기\n",
    "\n",
    "y_pred = model.predict(x_test)"
   ]
  },
  {
   "cell_type": "code",
   "execution_count": 73,
   "id": "0758ccca",
   "metadata": {},
   "outputs": [
    {
     "name": "stdout",
     "output_type": "stream",
     "text": [
      "MAE : 2.792434210526315\n",
      "r2-score : 0.8088599652727502\n"
     ]
    }
   ],
   "source": [
    "# 평가하기\n",
    "\n",
    "print('MAE :', mean_absolute_error(y_test, y_pred))\n",
    "print('r2-score :', r2_score(y_test,y_pred))"
   ]
  },
  {
   "cell_type": "code",
   "execution_count": null,
   "id": "89090713",
   "metadata": {},
   "outputs": [],
   "source": []
  }
 ],
 "metadata": {
  "kernelspec": {
   "display_name": "Python 3",
   "language": "python",
   "name": "python3"
  },
  "language_info": {
   "codemirror_mode": {
    "name": "ipython",
    "version": 3
   },
   "file_extension": ".py",
   "mimetype": "text/x-python",
   "name": "python",
   "nbconvert_exporter": "python",
   "pygments_lexer": "ipython3",
   "version": "3.8.8"
  }
 },
 "nbformat": 4,
 "nbformat_minor": 5
}
