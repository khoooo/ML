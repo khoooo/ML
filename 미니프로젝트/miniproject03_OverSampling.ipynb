{
 "cells": [
  {
   "cell_type": "markdown",
   "id": "adf3dfa8",
   "metadata": {},
   "source": [
    "#### 직원 이직 여부 예측"
   ]
  },
  {
   "cell_type": "markdown",
   "id": "eb4c0a41",
   "metadata": {},
   "source": [
    "## 1. 환경준비"
   ]
  },
  {
   "cell_type": "code",
   "execution_count": 92,
   "id": "bdfbc996",
   "metadata": {},
   "outputs": [],
   "source": [
    "import numpy as np\n",
    "import pandas as pd\n",
    "import matplotlib.pyplot as plt\n",
    "import seaborn as sns\n",
    "import warnings\n",
    "\n",
    "warnings.filterwarnings(action='ignore')\n",
    "%config InlineBackend.figure_format='retina'"
   ]
  },
  {
   "cell_type": "code",
   "execution_count": 93,
   "id": "15fbd50c",
   "metadata": {},
   "outputs": [],
   "source": [
    "path = 'https://bit.ly/AttritionFile'\n",
    "data = pd.read_csv(path)\n",
    "\n",
    "# 값 변경: Yes/No --> 1/0\n",
    "data['Attrition'] = data['Attrition'].map({'Yes': 1, 'No': 0})"
   ]
  },
  {
   "cell_type": "markdown",
   "id": "0e6f66bd",
   "metadata": {},
   "source": [
    "## 2. 데이터 탐색"
   ]
  },
  {
   "cell_type": "markdown",
   "id": "d865c60c",
   "metadata": {},
   "source": [
    "#### 1) 상/하위 데이터 확인"
   ]
  },
  {
   "cell_type": "code",
   "execution_count": 94,
   "id": "fee292b6",
   "metadata": {},
   "outputs": [
    {
     "data": {
      "text/html": [
       "<div>\n",
       "<style scoped>\n",
       "    .dataframe tbody tr th:only-of-type {\n",
       "        vertical-align: middle;\n",
       "    }\n",
       "\n",
       "    .dataframe tbody tr th {\n",
       "        vertical-align: top;\n",
       "    }\n",
       "\n",
       "    .dataframe thead th {\n",
       "        text-align: right;\n",
       "    }\n",
       "</style>\n",
       "<table border=\"1\" class=\"dataframe\">\n",
       "  <thead>\n",
       "    <tr style=\"text-align: right;\">\n",
       "      <th></th>\n",
       "      <th>Attrition</th>\n",
       "      <th>Age</th>\n",
       "      <th>BusinessTravel</th>\n",
       "      <th>Department</th>\n",
       "      <th>DistanceFromHome</th>\n",
       "      <th>Education</th>\n",
       "      <th>EducationField</th>\n",
       "      <th>EmployeeNumber</th>\n",
       "      <th>EnvironmentSatisfaction</th>\n",
       "      <th>Gender</th>\n",
       "      <th>...</th>\n",
       "      <th>OverTime</th>\n",
       "      <th>PercentSalaryHike</th>\n",
       "      <th>RelationshipSatisfaction</th>\n",
       "      <th>StockOptionLevel</th>\n",
       "      <th>TotalWorkingYears</th>\n",
       "      <th>TrainingTimesLastYear</th>\n",
       "      <th>WorkLifeBalance</th>\n",
       "      <th>YearsAtCompany</th>\n",
       "      <th>YearsInCurrentRole</th>\n",
       "      <th>YearsWithCurrManager</th>\n",
       "    </tr>\n",
       "  </thead>\n",
       "  <tbody>\n",
       "    <tr>\n",
       "      <th>0</th>\n",
       "      <td>0</td>\n",
       "      <td>33</td>\n",
       "      <td>Travel_Rarely</td>\n",
       "      <td>Research &amp; Development</td>\n",
       "      <td>7.0</td>\n",
       "      <td>3</td>\n",
       "      <td>Medical</td>\n",
       "      <td>817</td>\n",
       "      <td>3</td>\n",
       "      <td>Male</td>\n",
       "      <td>...</td>\n",
       "      <td>No</td>\n",
       "      <td>11</td>\n",
       "      <td>4</td>\n",
       "      <td>0</td>\n",
       "      <td>14</td>\n",
       "      <td>3</td>\n",
       "      <td>4</td>\n",
       "      <td>13</td>\n",
       "      <td>9</td>\n",
       "      <td>7</td>\n",
       "    </tr>\n",
       "    <tr>\n",
       "      <th>1</th>\n",
       "      <td>0</td>\n",
       "      <td>35</td>\n",
       "      <td>Travel_Frequently</td>\n",
       "      <td>Research &amp; Development</td>\n",
       "      <td>18.0</td>\n",
       "      <td>2</td>\n",
       "      <td>Life Sciences</td>\n",
       "      <td>1412</td>\n",
       "      <td>3</td>\n",
       "      <td>Male</td>\n",
       "      <td>...</td>\n",
       "      <td>No</td>\n",
       "      <td>11</td>\n",
       "      <td>3</td>\n",
       "      <td>0</td>\n",
       "      <td>10</td>\n",
       "      <td>2</td>\n",
       "      <td>3</td>\n",
       "      <td>2</td>\n",
       "      <td>2</td>\n",
       "      <td>2</td>\n",
       "    </tr>\n",
       "    <tr>\n",
       "      <th>2</th>\n",
       "      <td>0</td>\n",
       "      <td>42</td>\n",
       "      <td>Travel_Rarely</td>\n",
       "      <td>Research &amp; Development</td>\n",
       "      <td>6.0</td>\n",
       "      <td>3</td>\n",
       "      <td>Medical</td>\n",
       "      <td>1911</td>\n",
       "      <td>3</td>\n",
       "      <td>Male</td>\n",
       "      <td>...</td>\n",
       "      <td>No</td>\n",
       "      <td>13</td>\n",
       "      <td>2</td>\n",
       "      <td>1</td>\n",
       "      <td>18</td>\n",
       "      <td>3</td>\n",
       "      <td>4</td>\n",
       "      <td>13</td>\n",
       "      <td>7</td>\n",
       "      <td>7</td>\n",
       "    </tr>\n",
       "  </tbody>\n",
       "</table>\n",
       "<p>3 rows × 26 columns</p>\n",
       "</div>"
      ],
      "text/plain": [
       "   Attrition  Age     BusinessTravel              Department  \\\n",
       "0          0   33      Travel_Rarely  Research & Development   \n",
       "1          0   35  Travel_Frequently  Research & Development   \n",
       "2          0   42      Travel_Rarely  Research & Development   \n",
       "\n",
       "   DistanceFromHome  Education EducationField  EmployeeNumber  \\\n",
       "0               7.0          3        Medical             817   \n",
       "1              18.0          2  Life Sciences            1412   \n",
       "2               6.0          3        Medical            1911   \n",
       "\n",
       "   EnvironmentSatisfaction Gender  ...  OverTime PercentSalaryHike  \\\n",
       "0                        3   Male  ...        No                11   \n",
       "1                        3   Male  ...        No                11   \n",
       "2                        3   Male  ...        No                13   \n",
       "\n",
       "   RelationshipSatisfaction StockOptionLevel  TotalWorkingYears  \\\n",
       "0                         4                0                 14   \n",
       "1                         3                0                 10   \n",
       "2                         2                1                 18   \n",
       "\n",
       "   TrainingTimesLastYear WorkLifeBalance  YearsAtCompany  YearsInCurrentRole  \\\n",
       "0                      3               4              13                   9   \n",
       "1                      2               3               2                   2   \n",
       "2                      3               4              13                   7   \n",
       "\n",
       "   YearsWithCurrManager  \n",
       "0                     7  \n",
       "1                     2  \n",
       "2                     7  \n",
       "\n",
       "[3 rows x 26 columns]"
      ]
     },
     "execution_count": 94,
     "metadata": {},
     "output_type": "execute_result"
    }
   ],
   "source": [
    "data.head(3)"
   ]
  },
  {
   "cell_type": "code",
   "execution_count": 95,
   "id": "fa422566",
   "metadata": {},
   "outputs": [
    {
     "data": {
      "text/html": [
       "<div>\n",
       "<style scoped>\n",
       "    .dataframe tbody tr th:only-of-type {\n",
       "        vertical-align: middle;\n",
       "    }\n",
       "\n",
       "    .dataframe tbody tr th {\n",
       "        vertical-align: top;\n",
       "    }\n",
       "\n",
       "    .dataframe thead th {\n",
       "        text-align: right;\n",
       "    }\n",
       "</style>\n",
       "<table border=\"1\" class=\"dataframe\">\n",
       "  <thead>\n",
       "    <tr style=\"text-align: right;\">\n",
       "      <th></th>\n",
       "      <th>Attrition</th>\n",
       "      <th>Age</th>\n",
       "      <th>BusinessTravel</th>\n",
       "      <th>Department</th>\n",
       "      <th>DistanceFromHome</th>\n",
       "      <th>Education</th>\n",
       "      <th>EducationField</th>\n",
       "      <th>EmployeeNumber</th>\n",
       "      <th>EnvironmentSatisfaction</th>\n",
       "      <th>Gender</th>\n",
       "      <th>...</th>\n",
       "      <th>OverTime</th>\n",
       "      <th>PercentSalaryHike</th>\n",
       "      <th>RelationshipSatisfaction</th>\n",
       "      <th>StockOptionLevel</th>\n",
       "      <th>TotalWorkingYears</th>\n",
       "      <th>TrainingTimesLastYear</th>\n",
       "      <th>WorkLifeBalance</th>\n",
       "      <th>YearsAtCompany</th>\n",
       "      <th>YearsInCurrentRole</th>\n",
       "      <th>YearsWithCurrManager</th>\n",
       "    </tr>\n",
       "  </thead>\n",
       "  <tbody>\n",
       "    <tr>\n",
       "      <th>1247</th>\n",
       "      <td>0</td>\n",
       "      <td>29</td>\n",
       "      <td>Non-Travel</td>\n",
       "      <td>Sales</td>\n",
       "      <td>2.0</td>\n",
       "      <td>3</td>\n",
       "      <td>Life Sciences</td>\n",
       "      <td>469</td>\n",
       "      <td>4</td>\n",
       "      <td>Male</td>\n",
       "      <td>...</td>\n",
       "      <td>No</td>\n",
       "      <td>14</td>\n",
       "      <td>1</td>\n",
       "      <td>1</td>\n",
       "      <td>4</td>\n",
       "      <td>3</td>\n",
       "      <td>2</td>\n",
       "      <td>4</td>\n",
       "      <td>3</td>\n",
       "      <td>2</td>\n",
       "    </tr>\n",
       "    <tr>\n",
       "      <th>1248</th>\n",
       "      <td>0</td>\n",
       "      <td>43</td>\n",
       "      <td>Travel_Rarely</td>\n",
       "      <td>Sales</td>\n",
       "      <td>16.0</td>\n",
       "      <td>3</td>\n",
       "      <td>Marketing</td>\n",
       "      <td>327</td>\n",
       "      <td>4</td>\n",
       "      <td>Female</td>\n",
       "      <td>...</td>\n",
       "      <td>Yes</td>\n",
       "      <td>22</td>\n",
       "      <td>3</td>\n",
       "      <td>1</td>\n",
       "      <td>22</td>\n",
       "      <td>3</td>\n",
       "      <td>3</td>\n",
       "      <td>17</td>\n",
       "      <td>13</td>\n",
       "      <td>9</td>\n",
       "    </tr>\n",
       "    <tr>\n",
       "      <th>1249</th>\n",
       "      <td>0</td>\n",
       "      <td>26</td>\n",
       "      <td>Travel_Rarely</td>\n",
       "      <td>Research &amp; Development</td>\n",
       "      <td>NaN</td>\n",
       "      <td>4</td>\n",
       "      <td>Medical</td>\n",
       "      <td>1177</td>\n",
       "      <td>1</td>\n",
       "      <td>Male</td>\n",
       "      <td>...</td>\n",
       "      <td>No</td>\n",
       "      <td>22</td>\n",
       "      <td>2</td>\n",
       "      <td>1</td>\n",
       "      <td>8</td>\n",
       "      <td>2</td>\n",
       "      <td>3</td>\n",
       "      <td>8</td>\n",
       "      <td>7</td>\n",
       "      <td>7</td>\n",
       "    </tr>\n",
       "  </tbody>\n",
       "</table>\n",
       "<p>3 rows × 26 columns</p>\n",
       "</div>"
      ],
      "text/plain": [
       "      Attrition  Age BusinessTravel              Department  DistanceFromHome  \\\n",
       "1247          0   29     Non-Travel                   Sales               2.0   \n",
       "1248          0   43  Travel_Rarely                   Sales              16.0   \n",
       "1249          0   26  Travel_Rarely  Research & Development               NaN   \n",
       "\n",
       "      Education EducationField  EmployeeNumber  EnvironmentSatisfaction  \\\n",
       "1247          3  Life Sciences             469                        4   \n",
       "1248          3      Marketing             327                        4   \n",
       "1249          4        Medical            1177                        1   \n",
       "\n",
       "      Gender  ...  OverTime PercentSalaryHike  RelationshipSatisfaction  \\\n",
       "1247    Male  ...        No                14                         1   \n",
       "1248  Female  ...       Yes                22                         3   \n",
       "1249    Male  ...        No                22                         2   \n",
       "\n",
       "     StockOptionLevel  TotalWorkingYears  TrainingTimesLastYear  \\\n",
       "1247                1                  4                      3   \n",
       "1248                1                 22                      3   \n",
       "1249                1                  8                      2   \n",
       "\n",
       "     WorkLifeBalance  YearsAtCompany  YearsInCurrentRole  YearsWithCurrManager  \n",
       "1247               2               4                   3                     2  \n",
       "1248               3              17                  13                     9  \n",
       "1249               3               8                   7                     7  \n",
       "\n",
       "[3 rows x 26 columns]"
      ]
     },
     "execution_count": 95,
     "metadata": {},
     "output_type": "execute_result"
    }
   ],
   "source": [
    "data.tail(3)"
   ]
  },
  {
   "cell_type": "markdown",
   "id": "e934d1f4",
   "metadata": {},
   "source": [
    "#### 2) 변수 정보 확인"
   ]
  },
  {
   "cell_type": "code",
   "execution_count": 96,
   "id": "3a4ab1ac",
   "metadata": {
    "scrolled": false
   },
   "outputs": [
    {
     "name": "stdout",
     "output_type": "stream",
     "text": [
      "<class 'pandas.core.frame.DataFrame'>\n",
      "RangeIndex: 1250 entries, 0 to 1249\n",
      "Data columns (total 26 columns):\n",
      " #   Column                    Non-Null Count  Dtype  \n",
      "---  ------                    --------------  -----  \n",
      " 0   Attrition                 1250 non-null   int64  \n",
      " 1   Age                       1250 non-null   int64  \n",
      " 2   BusinessTravel            1250 non-null   object \n",
      " 3   Department                1250 non-null   object \n",
      " 4   DistanceFromHome          1196 non-null   float64\n",
      " 5   Education                 1250 non-null   int64  \n",
      " 6   EducationField            1250 non-null   object \n",
      " 7   EmployeeNumber            1250 non-null   int64  \n",
      " 8   EnvironmentSatisfaction   1250 non-null   int64  \n",
      " 9   Gender                    1250 non-null   object \n",
      " 10  JobInvolvement            1250 non-null   int64  \n",
      " 11  JobRole                   1250 non-null   object \n",
      " 12  JobSatisfaction           1250 non-null   int64  \n",
      " 13  MaritalStatus             1250 non-null   object \n",
      " 14  MonthlyIncome             1250 non-null   int64  \n",
      " 15  NumCompaniesWorked        1229 non-null   float64\n",
      " 16  OverTime                  1250 non-null   object \n",
      " 17  PercentSalaryHike         1250 non-null   int64  \n",
      " 18  RelationshipSatisfaction  1250 non-null   int64  \n",
      " 19  StockOptionLevel          1250 non-null   int64  \n",
      " 20  TotalWorkingYears         1250 non-null   int64  \n",
      " 21  TrainingTimesLastYear     1250 non-null   int64  \n",
      " 22  WorkLifeBalance           1250 non-null   int64  \n",
      " 23  YearsAtCompany            1250 non-null   int64  \n",
      " 24  YearsInCurrentRole        1250 non-null   int64  \n",
      " 25  YearsWithCurrManager      1250 non-null   int64  \n",
      "dtypes: float64(2), int64(17), object(7)\n",
      "memory usage: 254.0+ KB\n"
     ]
    }
   ],
   "source": [
    "data.info()"
   ]
  },
  {
   "cell_type": "markdown",
   "id": "6cca13c2",
   "metadata": {},
   "source": [
    "#### 3) 기초통계정보 확인"
   ]
  },
  {
   "cell_type": "code",
   "execution_count": 97,
   "id": "356076a6",
   "metadata": {},
   "outputs": [
    {
     "data": {
      "text/html": [
       "<div>\n",
       "<style scoped>\n",
       "    .dataframe tbody tr th:only-of-type {\n",
       "        vertical-align: middle;\n",
       "    }\n",
       "\n",
       "    .dataframe tbody tr th {\n",
       "        vertical-align: top;\n",
       "    }\n",
       "\n",
       "    .dataframe thead th {\n",
       "        text-align: right;\n",
       "    }\n",
       "</style>\n",
       "<table border=\"1\" class=\"dataframe\">\n",
       "  <thead>\n",
       "    <tr style=\"text-align: right;\">\n",
       "      <th></th>\n",
       "      <th>Attrition</th>\n",
       "      <th>Age</th>\n",
       "      <th>DistanceFromHome</th>\n",
       "      <th>Education</th>\n",
       "      <th>EmployeeNumber</th>\n",
       "      <th>EnvironmentSatisfaction</th>\n",
       "      <th>JobInvolvement</th>\n",
       "      <th>JobSatisfaction</th>\n",
       "      <th>MonthlyIncome</th>\n",
       "      <th>NumCompaniesWorked</th>\n",
       "      <th>PercentSalaryHike</th>\n",
       "      <th>RelationshipSatisfaction</th>\n",
       "      <th>StockOptionLevel</th>\n",
       "      <th>TotalWorkingYears</th>\n",
       "      <th>TrainingTimesLastYear</th>\n",
       "      <th>WorkLifeBalance</th>\n",
       "      <th>YearsAtCompany</th>\n",
       "      <th>YearsInCurrentRole</th>\n",
       "      <th>YearsWithCurrManager</th>\n",
       "    </tr>\n",
       "  </thead>\n",
       "  <tbody>\n",
       "    <tr>\n",
       "      <th>count</th>\n",
       "      <td>1250.000000</td>\n",
       "      <td>1250.000000</td>\n",
       "      <td>1196.000000</td>\n",
       "      <td>1250.000000</td>\n",
       "      <td>1250.00000</td>\n",
       "      <td>1250.000000</td>\n",
       "      <td>1250.0000</td>\n",
       "      <td>1250.000000</td>\n",
       "      <td>1250.000000</td>\n",
       "      <td>1229.000000</td>\n",
       "      <td>1250.000000</td>\n",
       "      <td>1250.000000</td>\n",
       "      <td>1250.000000</td>\n",
       "      <td>1250.00000</td>\n",
       "      <td>1250.000000</td>\n",
       "      <td>1250.000000</td>\n",
       "      <td>1250.000000</td>\n",
       "      <td>1250.000000</td>\n",
       "      <td>1250.000000</td>\n",
       "    </tr>\n",
       "    <tr>\n",
       "      <th>mean</th>\n",
       "      <td>0.160000</td>\n",
       "      <td>36.931200</td>\n",
       "      <td>9.258361</td>\n",
       "      <td>2.916800</td>\n",
       "      <td>1030.97120</td>\n",
       "      <td>2.739200</td>\n",
       "      <td>2.7272</td>\n",
       "      <td>2.729600</td>\n",
       "      <td>6525.548000</td>\n",
       "      <td>2.678600</td>\n",
       "      <td>15.216000</td>\n",
       "      <td>2.717600</td>\n",
       "      <td>0.796000</td>\n",
       "      <td>11.33920</td>\n",
       "      <td>2.808000</td>\n",
       "      <td>2.761600</td>\n",
       "      <td>7.117600</td>\n",
       "      <td>4.276000</td>\n",
       "      <td>4.166400</td>\n",
       "    </tr>\n",
       "    <tr>\n",
       "      <th>std</th>\n",
       "      <td>0.366753</td>\n",
       "      <td>9.122162</td>\n",
       "      <td>8.166016</td>\n",
       "      <td>1.025436</td>\n",
       "      <td>603.40408</td>\n",
       "      <td>1.096971</td>\n",
       "      <td>0.7102</td>\n",
       "      <td>1.110617</td>\n",
       "      <td>4676.979554</td>\n",
       "      <td>2.473647</td>\n",
       "      <td>3.625556</td>\n",
       "      <td>1.074977</td>\n",
       "      <td>0.851213</td>\n",
       "      <td>7.79687</td>\n",
       "      <td>1.277357</td>\n",
       "      <td>0.715245</td>\n",
       "      <td>6.246966</td>\n",
       "      <td>3.660074</td>\n",
       "      <td>3.610476</td>\n",
       "    </tr>\n",
       "    <tr>\n",
       "      <th>min</th>\n",
       "      <td>0.000000</td>\n",
       "      <td>18.000000</td>\n",
       "      <td>1.000000</td>\n",
       "      <td>1.000000</td>\n",
       "      <td>1.00000</td>\n",
       "      <td>1.000000</td>\n",
       "      <td>1.0000</td>\n",
       "      <td>1.000000</td>\n",
       "      <td>1009.000000</td>\n",
       "      <td>0.000000</td>\n",
       "      <td>11.000000</td>\n",
       "      <td>1.000000</td>\n",
       "      <td>0.000000</td>\n",
       "      <td>0.00000</td>\n",
       "      <td>0.000000</td>\n",
       "      <td>1.000000</td>\n",
       "      <td>0.000000</td>\n",
       "      <td>0.000000</td>\n",
       "      <td>0.000000</td>\n",
       "    </tr>\n",
       "    <tr>\n",
       "      <th>25%</th>\n",
       "      <td>0.000000</td>\n",
       "      <td>30.000000</td>\n",
       "      <td>2.000000</td>\n",
       "      <td>2.000000</td>\n",
       "      <td>496.25000</td>\n",
       "      <td>2.000000</td>\n",
       "      <td>2.0000</td>\n",
       "      <td>2.000000</td>\n",
       "      <td>2932.250000</td>\n",
       "      <td>1.000000</td>\n",
       "      <td>12.000000</td>\n",
       "      <td>2.000000</td>\n",
       "      <td>0.000000</td>\n",
       "      <td>6.00000</td>\n",
       "      <td>2.000000</td>\n",
       "      <td>2.000000</td>\n",
       "      <td>3.000000</td>\n",
       "      <td>2.000000</td>\n",
       "      <td>2.000000</td>\n",
       "    </tr>\n",
       "    <tr>\n",
       "      <th>50%</th>\n",
       "      <td>0.000000</td>\n",
       "      <td>36.000000</td>\n",
       "      <td>7.000000</td>\n",
       "      <td>3.000000</td>\n",
       "      <td>1028.00000</td>\n",
       "      <td>3.000000</td>\n",
       "      <td>3.0000</td>\n",
       "      <td>3.000000</td>\n",
       "      <td>4988.000000</td>\n",
       "      <td>2.000000</td>\n",
       "      <td>14.000000</td>\n",
       "      <td>3.000000</td>\n",
       "      <td>1.000000</td>\n",
       "      <td>10.00000</td>\n",
       "      <td>3.000000</td>\n",
       "      <td>3.000000</td>\n",
       "      <td>5.000000</td>\n",
       "      <td>3.000000</td>\n",
       "      <td>3.000000</td>\n",
       "    </tr>\n",
       "    <tr>\n",
       "      <th>75%</th>\n",
       "      <td>0.000000</td>\n",
       "      <td>43.000000</td>\n",
       "      <td>14.000000</td>\n",
       "      <td>4.000000</td>\n",
       "      <td>1567.00000</td>\n",
       "      <td>4.000000</td>\n",
       "      <td>3.0000</td>\n",
       "      <td>4.000000</td>\n",
       "      <td>8437.500000</td>\n",
       "      <td>4.000000</td>\n",
       "      <td>18.000000</td>\n",
       "      <td>4.000000</td>\n",
       "      <td>1.000000</td>\n",
       "      <td>15.00000</td>\n",
       "      <td>3.000000</td>\n",
       "      <td>3.000000</td>\n",
       "      <td>10.000000</td>\n",
       "      <td>7.000000</td>\n",
       "      <td>7.000000</td>\n",
       "    </tr>\n",
       "    <tr>\n",
       "      <th>max</th>\n",
       "      <td>1.000000</td>\n",
       "      <td>60.000000</td>\n",
       "      <td>29.000000</td>\n",
       "      <td>5.000000</td>\n",
       "      <td>2068.00000</td>\n",
       "      <td>4.000000</td>\n",
       "      <td>4.0000</td>\n",
       "      <td>4.000000</td>\n",
       "      <td>19999.000000</td>\n",
       "      <td>9.000000</td>\n",
       "      <td>25.000000</td>\n",
       "      <td>4.000000</td>\n",
       "      <td>3.000000</td>\n",
       "      <td>40.00000</td>\n",
       "      <td>6.000000</td>\n",
       "      <td>4.000000</td>\n",
       "      <td>40.000000</td>\n",
       "      <td>18.000000</td>\n",
       "      <td>17.000000</td>\n",
       "    </tr>\n",
       "  </tbody>\n",
       "</table>\n",
       "</div>"
      ],
      "text/plain": [
       "         Attrition          Age  DistanceFromHome    Education  \\\n",
       "count  1250.000000  1250.000000       1196.000000  1250.000000   \n",
       "mean      0.160000    36.931200          9.258361     2.916800   \n",
       "std       0.366753     9.122162          8.166016     1.025436   \n",
       "min       0.000000    18.000000          1.000000     1.000000   \n",
       "25%       0.000000    30.000000          2.000000     2.000000   \n",
       "50%       0.000000    36.000000          7.000000     3.000000   \n",
       "75%       0.000000    43.000000         14.000000     4.000000   \n",
       "max       1.000000    60.000000         29.000000     5.000000   \n",
       "\n",
       "       EmployeeNumber  EnvironmentSatisfaction  JobInvolvement  \\\n",
       "count      1250.00000              1250.000000       1250.0000   \n",
       "mean       1030.97120                 2.739200          2.7272   \n",
       "std         603.40408                 1.096971          0.7102   \n",
       "min           1.00000                 1.000000          1.0000   \n",
       "25%         496.25000                 2.000000          2.0000   \n",
       "50%        1028.00000                 3.000000          3.0000   \n",
       "75%        1567.00000                 4.000000          3.0000   \n",
       "max        2068.00000                 4.000000          4.0000   \n",
       "\n",
       "       JobSatisfaction  MonthlyIncome  NumCompaniesWorked  PercentSalaryHike  \\\n",
       "count      1250.000000    1250.000000         1229.000000        1250.000000   \n",
       "mean          2.729600    6525.548000            2.678600          15.216000   \n",
       "std           1.110617    4676.979554            2.473647           3.625556   \n",
       "min           1.000000    1009.000000            0.000000          11.000000   \n",
       "25%           2.000000    2932.250000            1.000000          12.000000   \n",
       "50%           3.000000    4988.000000            2.000000          14.000000   \n",
       "75%           4.000000    8437.500000            4.000000          18.000000   \n",
       "max           4.000000   19999.000000            9.000000          25.000000   \n",
       "\n",
       "       RelationshipSatisfaction  StockOptionLevel  TotalWorkingYears  \\\n",
       "count               1250.000000       1250.000000         1250.00000   \n",
       "mean                   2.717600          0.796000           11.33920   \n",
       "std                    1.074977          0.851213            7.79687   \n",
       "min                    1.000000          0.000000            0.00000   \n",
       "25%                    2.000000          0.000000            6.00000   \n",
       "50%                    3.000000          1.000000           10.00000   \n",
       "75%                    4.000000          1.000000           15.00000   \n",
       "max                    4.000000          3.000000           40.00000   \n",
       "\n",
       "       TrainingTimesLastYear  WorkLifeBalance  YearsAtCompany  \\\n",
       "count            1250.000000      1250.000000     1250.000000   \n",
       "mean                2.808000         2.761600        7.117600   \n",
       "std                 1.277357         0.715245        6.246966   \n",
       "min                 0.000000         1.000000        0.000000   \n",
       "25%                 2.000000         2.000000        3.000000   \n",
       "50%                 3.000000         3.000000        5.000000   \n",
       "75%                 3.000000         3.000000       10.000000   \n",
       "max                 6.000000         4.000000       40.000000   \n",
       "\n",
       "       YearsInCurrentRole  YearsWithCurrManager  \n",
       "count         1250.000000           1250.000000  \n",
       "mean             4.276000              4.166400  \n",
       "std              3.660074              3.610476  \n",
       "min              0.000000              0.000000  \n",
       "25%              2.000000              2.000000  \n",
       "50%              3.000000              3.000000  \n",
       "75%              7.000000              7.000000  \n",
       "max             18.000000             17.000000  "
      ]
     },
     "execution_count": 97,
     "metadata": {},
     "output_type": "execute_result"
    }
   ],
   "source": [
    "data.describe()"
   ]
  },
  {
   "cell_type": "markdown",
   "id": "00755283",
   "metadata": {},
   "source": [
    "#### 4) 결측치 확인"
   ]
  },
  {
   "cell_type": "code",
   "execution_count": 98,
   "id": "99d927ae",
   "metadata": {},
   "outputs": [
    {
     "data": {
      "text/plain": [
       "Attrition                    0\n",
       "Age                          0\n",
       "BusinessTravel               0\n",
       "Department                   0\n",
       "DistanceFromHome            54\n",
       "Education                    0\n",
       "EducationField               0\n",
       "EmployeeNumber               0\n",
       "EnvironmentSatisfaction      0\n",
       "Gender                       0\n",
       "JobInvolvement               0\n",
       "JobRole                      0\n",
       "JobSatisfaction              0\n",
       "MaritalStatus                0\n",
       "MonthlyIncome                0\n",
       "NumCompaniesWorked          21\n",
       "OverTime                     0\n",
       "PercentSalaryHike            0\n",
       "RelationshipSatisfaction     0\n",
       "StockOptionLevel             0\n",
       "TotalWorkingYears            0\n",
       "TrainingTimesLastYear        0\n",
       "WorkLifeBalance              0\n",
       "YearsAtCompany               0\n",
       "YearsInCurrentRole           0\n",
       "YearsWithCurrManager         0\n",
       "dtype: int64"
      ]
     },
     "execution_count": 98,
     "metadata": {},
     "output_type": "execute_result"
    }
   ],
   "source": [
    "data.isna().sum()"
   ]
  },
  {
   "cell_type": "markdown",
   "id": "14d56fc6",
   "metadata": {},
   "source": [
    "#### 5) Attrition 변수 확인"
   ]
  },
  {
   "cell_type": "code",
   "execution_count": 99,
   "id": "80e906b7",
   "metadata": {},
   "outputs": [
    {
     "data": {
      "text/plain": [
       "0    1050\n",
       "1     200\n",
       "Name: Attrition, dtype: int64"
      ]
     },
     "execution_count": 99,
     "metadata": {},
     "output_type": "execute_result"
    }
   ],
   "source": [
    "data['Attrition'].value_counts()"
   ]
  },
  {
   "cell_type": "markdown",
   "id": "b690e5e3",
   "metadata": {},
   "source": [
    "- 데이터 차이가 심하다. (데이터 불균형)\n",
    "- 예측력에 문제가 될 수 있다."
   ]
  },
  {
   "cell_type": "markdown",
   "id": "06097c17",
   "metadata": {},
   "source": [
    "#### 6) 주요 변수 확인"
   ]
  },
  {
   "cell_type": "markdown",
   "id": "06483dcc",
   "metadata": {},
   "source": [
    "Attrition"
   ]
  },
  {
   "cell_type": "code",
   "execution_count": 100,
   "id": "3e32f36c",
   "metadata": {},
   "outputs": [
    {
     "data": {
      "image/png": "[encoded data removed]",
      "text/plain": [
       "<Figure size 432x288 with 1 Axes>"
      ]
     },
     "metadata": {
      "image/png": {
       "height": 261,
       "width": 395
      },
      "needs_background": "light"
     },
     "output_type": "display_data"
    }
   ],
   "source": [
    "sns.countplot(data=data, x='Attrition')\n",
    "plt.show()"
   ]
  },
  {
   "cell_type": "markdown",
   "id": "e76e4acc",
   "metadata": {},
   "source": [
    "Age"
   ]
  },
  {
   "cell_type": "code",
   "execution_count": 101,
   "id": "8c2cefcd",
   "metadata": {},
   "outputs": [
    {
     "data": {
      "image/png": "[encoded data removed]",
      "text/plain": [
       "<Figure size 432x288 with 1 Axes>"
      ]
     },
     "metadata": {
      "image/png": {
       "height": 261,
       "width": 382
      },
      "needs_background": "light"
     },
     "output_type": "display_data"
    }
   ],
   "source": [
    "sns.histplot(data=data, x='Age', hue='Attrition', bins=40)\n",
    "plt.show()"
   ]
  },
  {
   "cell_type": "code",
   "execution_count": 102,
   "id": "9504843f",
   "metadata": {},
   "outputs": [
    {
     "data": {
      "image/png": "[encoded data removed]",
      "text/plain": [
       "<Figure size 432x288 with 1 Axes>"
      ]
     },
     "metadata": {
      "image/png": {
       "height": 261,
       "width": 392
      },
      "needs_background": "light"
     },
     "output_type": "display_data"
    }
   ],
   "source": [
    "sns.kdeplot(data=data, x='Age', hue='Attrition', common_norm=False)\n",
    "plt.show()"
   ]
  },
  {
   "cell_type": "markdown",
   "id": "5adeedac",
   "metadata": {},
   "source": [
    "- 교차되는 지점을 기준으로 나이가 어린 집단의 이탈이 높은 것을 확인"
   ]
  },
  {
   "cell_type": "markdown",
   "id": "e8be0140",
   "metadata": {},
   "source": [
    "YearsAtCompany"
   ]
  },
  {
   "cell_type": "code",
   "execution_count": 103,
   "id": "7f542fd0",
   "metadata": {},
   "outputs": [
    {
     "data": {
      "image/png": "[encoded data removed]",
      "text/plain": [
       "<Figure size 432x288 with 1 Axes>"
      ]
     },
     "metadata": {
      "image/png": {
       "height": 261,
       "width": 388
      },
      "needs_background": "light"
     },
     "output_type": "display_data"
    }
   ],
   "source": [
    "sns.histplot(data=data, x='YearsAtCompany', hue='Attrition', bins=40)\n",
    "plt.show()"
   ]
  },
  {
   "cell_type": "code",
   "execution_count": 104,
   "id": "5df73fde",
   "metadata": {},
   "outputs": [
    {
     "data": {
      "image/png": "[encoded data removed]",
      "text/plain": [
       "<Figure size 432x288 with 1 Axes>"
      ]
     },
     "metadata": {
      "image/png": {
       "height": 261,
       "width": 391
      },
      "needs_background": "light"
     },
     "output_type": "display_data"
    }
   ],
   "source": [
    "sns.kdeplot(data=data, x='YearsAtCompany', hue='Attrition', common_norm=False)\n",
    "plt.show()"
   ]
  },
  {
   "cell_type": "markdown",
   "id": "7bfadcbc",
   "metadata": {},
   "source": [
    "- 연차가 낮을수록 이탈이 높음."
   ]
  },
  {
   "cell_type": "markdown",
   "id": "951a97a0",
   "metadata": {},
   "source": [
    "## 3. 데이터 준비"
   ]
  },
  {
   "cell_type": "markdown",
   "id": "f7aaf7af",
   "metadata": {},
   "source": [
    "#### 1) 결측치 처리"
   ]
  },
  {
   "cell_type": "code",
   "execution_count": 105,
   "id": "1f73471a",
   "metadata": {
    "scrolled": false
   },
   "outputs": [
    {
     "data": {
      "text/plain": [
       "Attrition                   0\n",
       "Age                         0\n",
       "BusinessTravel              0\n",
       "Department                  0\n",
       "DistanceFromHome            0\n",
       "Education                   0\n",
       "EducationField              0\n",
       "EmployeeNumber              0\n",
       "EnvironmentSatisfaction     0\n",
       "Gender                      0\n",
       "JobInvolvement              0\n",
       "JobRole                     0\n",
       "JobSatisfaction             0\n",
       "MaritalStatus               0\n",
       "MonthlyIncome               0\n",
       "NumCompaniesWorked          0\n",
       "OverTime                    0\n",
       "PercentSalaryHike           0\n",
       "RelationshipSatisfaction    0\n",
       "StockOptionLevel            0\n",
       "TotalWorkingYears           0\n",
       "TrainingTimesLastYear       0\n",
       "WorkLifeBalance             0\n",
       "YearsAtCompany              0\n",
       "YearsInCurrentRole          0\n",
       "YearsWithCurrManager        0\n",
       "dtype: int64"
      ]
     },
     "execution_count": 105,
     "metadata": {},
     "output_type": "execute_result"
    }
   ],
   "source": [
    "# 변수의 가장 빈번한 값으로 변경\n",
    "fre_DistanceFromHome = data['DistanceFromHome'].value_counts().idxmax()\n",
    "fre_NumCompaniesWorked = data['NumCompaniesWorked'].value_counts().idxmax()\n",
    "\n",
    "data['DistanceFromHome'].fillna(fre_DistanceFromHome, inplace=True)\n",
    "data['NumCompaniesWorked'].fillna(fre_NumCompaniesWorked, inplace=True)\n",
    "\n",
    "data.isna().sum()"
   ]
  },
  {
   "cell_type": "markdown",
   "id": "bb6b7cfc",
   "metadata": {},
   "source": [
    "#### 2) x,y 분리"
   ]
  },
  {
   "cell_type": "code",
   "execution_count": 106,
   "id": "f6ba3cac",
   "metadata": {},
   "outputs": [],
   "source": [
    "target  = 'Attrition'\n",
    "\n",
    "x = data.drop(target, axis=1)\n",
    "y = data[target]"
   ]
  },
  {
   "cell_type": "markdown",
   "id": "c071b10b",
   "metadata": {},
   "source": [
    "#### 3) 가변수화"
   ]
  },
  {
   "cell_type": "code",
   "execution_count": 107,
   "id": "40d7334b",
   "metadata": {},
   "outputs": [
    {
     "data": {
      "text/html": [
       "<div>\n",
       "<style scoped>\n",
       "    .dataframe tbody tr th:only-of-type {\n",
       "        vertical-align: middle;\n",
       "    }\n",
       "\n",
       "    .dataframe tbody tr th {\n",
       "        vertical-align: top;\n",
       "    }\n",
       "\n",
       "    .dataframe thead th {\n",
       "        text-align: right;\n",
       "    }\n",
       "</style>\n",
       "<table border=\"1\" class=\"dataframe\">\n",
       "  <thead>\n",
       "    <tr style=\"text-align: right;\">\n",
       "      <th></th>\n",
       "      <th>Age</th>\n",
       "      <th>DistanceFromHome</th>\n",
       "      <th>EmployeeNumber</th>\n",
       "      <th>MonthlyIncome</th>\n",
       "      <th>NumCompaniesWorked</th>\n",
       "      <th>PercentSalaryHike</th>\n",
       "      <th>TotalWorkingYears</th>\n",
       "      <th>TrainingTimesLastYear</th>\n",
       "      <th>YearsAtCompany</th>\n",
       "      <th>YearsInCurrentRole</th>\n",
       "      <th>...</th>\n",
       "      <th>OverTime_Yes</th>\n",
       "      <th>RelationshipSatisfaction_2</th>\n",
       "      <th>RelationshipSatisfaction_3</th>\n",
       "      <th>RelationshipSatisfaction_4</th>\n",
       "      <th>StockOptionLevel_1</th>\n",
       "      <th>StockOptionLevel_2</th>\n",
       "      <th>StockOptionLevel_3</th>\n",
       "      <th>WorkLifeBalance_2</th>\n",
       "      <th>WorkLifeBalance_3</th>\n",
       "      <th>WorkLifeBalance_4</th>\n",
       "    </tr>\n",
       "  </thead>\n",
       "  <tbody>\n",
       "    <tr>\n",
       "      <th>0</th>\n",
       "      <td>33</td>\n",
       "      <td>7.0</td>\n",
       "      <td>817</td>\n",
       "      <td>11691</td>\n",
       "      <td>0.0</td>\n",
       "      <td>11</td>\n",
       "      <td>14</td>\n",
       "      <td>3</td>\n",
       "      <td>13</td>\n",
       "      <td>9</td>\n",
       "      <td>...</td>\n",
       "      <td>0</td>\n",
       "      <td>0</td>\n",
       "      <td>0</td>\n",
       "      <td>1</td>\n",
       "      <td>0</td>\n",
       "      <td>0</td>\n",
       "      <td>0</td>\n",
       "      <td>0</td>\n",
       "      <td>0</td>\n",
       "      <td>1</td>\n",
       "    </tr>\n",
       "    <tr>\n",
       "      <th>1</th>\n",
       "      <td>35</td>\n",
       "      <td>18.0</td>\n",
       "      <td>1412</td>\n",
       "      <td>9362</td>\n",
       "      <td>2.0</td>\n",
       "      <td>11</td>\n",
       "      <td>10</td>\n",
       "      <td>2</td>\n",
       "      <td>2</td>\n",
       "      <td>2</td>\n",
       "      <td>...</td>\n",
       "      <td>0</td>\n",
       "      <td>0</td>\n",
       "      <td>1</td>\n",
       "      <td>0</td>\n",
       "      <td>0</td>\n",
       "      <td>0</td>\n",
       "      <td>0</td>\n",
       "      <td>0</td>\n",
       "      <td>1</td>\n",
       "      <td>0</td>\n",
       "    </tr>\n",
       "    <tr>\n",
       "      <th>2</th>\n",
       "      <td>42</td>\n",
       "      <td>6.0</td>\n",
       "      <td>1911</td>\n",
       "      <td>13348</td>\n",
       "      <td>9.0</td>\n",
       "      <td>13</td>\n",
       "      <td>18</td>\n",
       "      <td>3</td>\n",
       "      <td>13</td>\n",
       "      <td>7</td>\n",
       "      <td>...</td>\n",
       "      <td>0</td>\n",
       "      <td>1</td>\n",
       "      <td>0</td>\n",
       "      <td>0</td>\n",
       "      <td>1</td>\n",
       "      <td>0</td>\n",
       "      <td>0</td>\n",
       "      <td>0</td>\n",
       "      <td>0</td>\n",
       "      <td>1</td>\n",
       "    </tr>\n",
       "  </tbody>\n",
       "</table>\n",
       "<p>3 rows × 54 columns</p>\n",
       "</div>"
      ],
      "text/plain": [
       "   Age  DistanceFromHome  EmployeeNumber  MonthlyIncome  NumCompaniesWorked  \\\n",
       "0   33               7.0             817          11691                 0.0   \n",
       "1   35              18.0            1412           9362                 2.0   \n",
       "2   42               6.0            1911          13348                 9.0   \n",
       "\n",
       "   PercentSalaryHike  TotalWorkingYears  TrainingTimesLastYear  \\\n",
       "0                 11                 14                      3   \n",
       "1                 11                 10                      2   \n",
       "2                 13                 18                      3   \n",
       "\n",
       "   YearsAtCompany  YearsInCurrentRole  ...  OverTime_Yes  \\\n",
       "0              13                   9  ...             0   \n",
       "1               2                   2  ...             0   \n",
       "2              13                   7  ...             0   \n",
       "\n",
       "   RelationshipSatisfaction_2  RelationshipSatisfaction_3  \\\n",
       "0                           0                           0   \n",
       "1                           0                           1   \n",
       "2                           1                           0   \n",
       "\n",
       "   RelationshipSatisfaction_4  StockOptionLevel_1  StockOptionLevel_2  \\\n",
       "0                           1                   0                   0   \n",
       "1                           0                   0                   0   \n",
       "2                           0                   1                   0   \n",
       "\n",
       "   StockOptionLevel_3  WorkLifeBalance_2  WorkLifeBalance_3  WorkLifeBalance_4  \n",
       "0                   0                  0                  0                  1  \n",
       "1                   0                  0                  1                  0  \n",
       "2                   0                  0                  0                  1  \n",
       "\n",
       "[3 rows x 54 columns]"
      ]
     },
     "execution_count": 107,
     "metadata": {},
     "output_type": "execute_result"
    }
   ],
   "source": [
    "cols = ['BusinessTravel', 'Department', 'Education', 'EducationField', 'EnvironmentSatisfaction', \n",
    "        'Gender', 'JobInvolvement', 'JobRole', 'JobSatisfaction', 'MaritalStatus', 'OverTime', \n",
    "        'RelationshipSatisfaction', 'StockOptionLevel', 'WorkLifeBalance']\n",
    "\n",
    "x = pd.get_dummies(x, columns=cols, drop_first=True) # x,y 분리를 먼저 실행해서 x 만 가변수화\n",
    "x.head(3)"
   ]
  },
  {
   "cell_type": "markdown",
   "id": "6e866d3e",
   "metadata": {},
   "source": [
    "#### 4) 정규화"
   ]
  },
  {
   "cell_type": "code",
   "execution_count": 108,
   "id": "392004cc",
   "metadata": {},
   "outputs": [],
   "source": [
    "cols = ['Age', 'DistanceFromHome', 'EmployeeNumber', 'MonthlyIncome', 'NumCompaniesWorked', \n",
    "      'PercentSalaryHike', 'TotalWorkingYears', 'TrainingTimesLastYear', 'YearsAtCompany', \n",
    "      'YearsInCurrentRole', 'YearsWithCurrManager']\n",
    "\n",
    "x[cols] = (x[cols] - x[cols].min()) / (x[cols].max() - x[cols].min())"
   ]
  },
  {
   "cell_type": "code",
   "execution_count": 109,
   "id": "ed16e508",
   "metadata": {},
   "outputs": [
    {
     "data": {
      "text/html": [
       "<div>\n",
       "<style scoped>\n",
       "    .dataframe tbody tr th:only-of-type {\n",
       "        vertical-align: middle;\n",
       "    }\n",
       "\n",
       "    .dataframe tbody tr th {\n",
       "        vertical-align: top;\n",
       "    }\n",
       "\n",
       "    .dataframe thead th {\n",
       "        text-align: right;\n",
       "    }\n",
       "</style>\n",
       "<table border=\"1\" class=\"dataframe\">\n",
       "  <thead>\n",
       "    <tr style=\"text-align: right;\">\n",
       "      <th></th>\n",
       "      <th>Age</th>\n",
       "      <th>DistanceFromHome</th>\n",
       "      <th>EmployeeNumber</th>\n",
       "      <th>MonthlyIncome</th>\n",
       "      <th>NumCompaniesWorked</th>\n",
       "      <th>PercentSalaryHike</th>\n",
       "      <th>TotalWorkingYears</th>\n",
       "      <th>TrainingTimesLastYear</th>\n",
       "      <th>YearsAtCompany</th>\n",
       "      <th>YearsInCurrentRole</th>\n",
       "      <th>...</th>\n",
       "      <th>OverTime_Yes</th>\n",
       "      <th>RelationshipSatisfaction_2</th>\n",
       "      <th>RelationshipSatisfaction_3</th>\n",
       "      <th>RelationshipSatisfaction_4</th>\n",
       "      <th>StockOptionLevel_1</th>\n",
       "      <th>StockOptionLevel_2</th>\n",
       "      <th>StockOptionLevel_3</th>\n",
       "      <th>WorkLifeBalance_2</th>\n",
       "      <th>WorkLifeBalance_3</th>\n",
       "      <th>WorkLifeBalance_4</th>\n",
       "    </tr>\n",
       "  </thead>\n",
       "  <tbody>\n",
       "    <tr>\n",
       "      <th>0</th>\n",
       "      <td>0.357143</td>\n",
       "      <td>0.214286</td>\n",
       "      <td>0.394775</td>\n",
       "      <td>0.562507</td>\n",
       "      <td>0.000000</td>\n",
       "      <td>0.000000</td>\n",
       "      <td>0.35</td>\n",
       "      <td>0.500000</td>\n",
       "      <td>0.325</td>\n",
       "      <td>0.500000</td>\n",
       "      <td>...</td>\n",
       "      <td>0</td>\n",
       "      <td>0</td>\n",
       "      <td>0</td>\n",
       "      <td>1</td>\n",
       "      <td>0</td>\n",
       "      <td>0</td>\n",
       "      <td>0</td>\n",
       "      <td>0</td>\n",
       "      <td>0</td>\n",
       "      <td>1</td>\n",
       "    </tr>\n",
       "    <tr>\n",
       "      <th>1</th>\n",
       "      <td>0.404762</td>\n",
       "      <td>0.607143</td>\n",
       "      <td>0.682632</td>\n",
       "      <td>0.439863</td>\n",
       "      <td>0.222222</td>\n",
       "      <td>0.000000</td>\n",
       "      <td>0.25</td>\n",
       "      <td>0.333333</td>\n",
       "      <td>0.050</td>\n",
       "      <td>0.111111</td>\n",
       "      <td>...</td>\n",
       "      <td>0</td>\n",
       "      <td>0</td>\n",
       "      <td>1</td>\n",
       "      <td>0</td>\n",
       "      <td>0</td>\n",
       "      <td>0</td>\n",
       "      <td>0</td>\n",
       "      <td>0</td>\n",
       "      <td>1</td>\n",
       "      <td>0</td>\n",
       "    </tr>\n",
       "    <tr>\n",
       "      <th>2</th>\n",
       "      <td>0.571429</td>\n",
       "      <td>0.178571</td>\n",
       "      <td>0.924045</td>\n",
       "      <td>0.649763</td>\n",
       "      <td>1.000000</td>\n",
       "      <td>0.142857</td>\n",
       "      <td>0.45</td>\n",
       "      <td>0.500000</td>\n",
       "      <td>0.325</td>\n",
       "      <td>0.388889</td>\n",
       "      <td>...</td>\n",
       "      <td>0</td>\n",
       "      <td>1</td>\n",
       "      <td>0</td>\n",
       "      <td>0</td>\n",
       "      <td>1</td>\n",
       "      <td>0</td>\n",
       "      <td>0</td>\n",
       "      <td>0</td>\n",
       "      <td>0</td>\n",
       "      <td>1</td>\n",
       "    </tr>\n",
       "  </tbody>\n",
       "</table>\n",
       "<p>3 rows × 54 columns</p>\n",
       "</div>"
      ],
      "text/plain": [
       "        Age  DistanceFromHome  EmployeeNumber  MonthlyIncome  \\\n",
       "0  0.357143          0.214286        0.394775       0.562507   \n",
       "1  0.404762          0.607143        0.682632       0.439863   \n",
       "2  0.571429          0.178571        0.924045       0.649763   \n",
       "\n",
       "   NumCompaniesWorked  PercentSalaryHike  TotalWorkingYears  \\\n",
       "0            0.000000           0.000000               0.35   \n",
       "1            0.222222           0.000000               0.25   \n",
       "2            1.000000           0.142857               0.45   \n",
       "\n",
       "   TrainingTimesLastYear  YearsAtCompany  YearsInCurrentRole  ...  \\\n",
       "0               0.500000           0.325            0.500000  ...   \n",
       "1               0.333333           0.050            0.111111  ...   \n",
       "2               0.500000           0.325            0.388889  ...   \n",
       "\n",
       "   OverTime_Yes  RelationshipSatisfaction_2  RelationshipSatisfaction_3  \\\n",
       "0             0                           0                           0   \n",
       "1             0                           0                           1   \n",
       "2             0                           1                           0   \n",
       "\n",
       "   RelationshipSatisfaction_4  StockOptionLevel_1  StockOptionLevel_2  \\\n",
       "0                           1                   0                   0   \n",
       "1                           0                   0                   0   \n",
       "2                           0                   1                   0   \n",
       "\n",
       "   StockOptionLevel_3  WorkLifeBalance_2  WorkLifeBalance_3  WorkLifeBalance_4  \n",
       "0                   0                  0                  0                  1  \n",
       "1                   0                  0                  1                  0  \n",
       "2                   0                  0                  0                  1  \n",
       "\n",
       "[3 rows x 54 columns]"
      ]
     },
     "execution_count": 109,
     "metadata": {},
     "output_type": "execute_result"
    }
   ],
   "source": [
    "x.head(3)"
   ]
  },
  {
   "cell_type": "markdown",
   "id": "776ec7b2",
   "metadata": {},
   "source": [
    "#### 5) train,test 분리"
   ]
  },
  {
   "cell_type": "code",
   "execution_count": 110,
   "id": "c253a40b",
   "metadata": {},
   "outputs": [],
   "source": [
    "from sklearn.model_selection import train_test_split\n",
    "x_train,x_test,y_train,y_test = train_test_split(x, y, test_size=0.3, random_state=2022)"
   ]
  },
  {
   "cell_type": "markdown",
   "id": "f97093b5",
   "metadata": {},
   "source": [
    "## 4. 모델링"
   ]
  },
  {
   "cell_type": "markdown",
   "id": "1874df04",
   "metadata": {},
   "source": [
    "#### KNN"
   ]
  },
  {
   "cell_type": "code",
   "execution_count": 111,
   "id": "f341b6af",
   "metadata": {},
   "outputs": [
    {
     "name": "stdout",
     "output_type": "stream",
     "text": [
      "[[303  12]\n",
      " [ 51   9]]\n",
      "              precision    recall  f1-score   support\n",
      "\n",
      "           0       0.86      0.96      0.91       315\n",
      "           1       0.43      0.15      0.22        60\n",
      "\n",
      "    accuracy                           0.83       375\n",
      "   macro avg       0.64      0.56      0.56       375\n",
      "weighted avg       0.79      0.83      0.80       375\n",
      "\n"
     ]
    }
   ],
   "source": [
    "# 불러오기\n",
    "from sklearn.neighbors import KNeighborsClassifier\n",
    "from sklearn.metrics import confusion_matrix, classification_report, accuracy_score\n",
    "\n",
    "# 선언하기\n",
    "model = KNeighborsClassifier()\n",
    "\n",
    "# 학습하기\n",
    "model.fit(x_train,y_train)\n",
    "\n",
    "# 예측하기\n",
    "y_pred = model.predict(x_test)\n",
    "\n",
    "# 평가하기\n",
    "print(confusion_matrix(y_test,y_pred))\n",
    "print(classification_report(y_test,y_pred))"
   ]
  },
  {
   "cell_type": "markdown",
   "id": "c397cfec",
   "metadata": {},
   "source": [
    "- recall이 매우 낮은 것을 확인 -> 데이터 불균형이 원인"
   ]
  },
  {
   "cell_type": "code",
   "execution_count": 112,
   "id": "6787813e",
   "metadata": {},
   "outputs": [],
   "source": [
    "from sklearn.metrics import precision_score, recall_score, accuracy_score\n",
    "\n",
    "score={}\n",
    "score['KNN'] = [precision_score(y_test, y_pred),\n",
    "                recall_score(y_test, y_pred),\n",
    "                accuracy_score(y_test, y_pred)]"
   ]
  },
  {
   "cell_type": "markdown",
   "id": "16d2b166",
   "metadata": {},
   "source": [
    "#### Logistic Regression"
   ]
  },
  {
   "cell_type": "code",
   "execution_count": 113,
   "id": "4aa5450e",
   "metadata": {},
   "outputs": [
    {
     "name": "stdout",
     "output_type": "stream",
     "text": [
      "[[312   3]\n",
      " [ 38  22]]\n",
      "              precision    recall  f1-score   support\n",
      "\n",
      "           0       0.89      0.99      0.94       315\n",
      "           1       0.88      0.37      0.52        60\n",
      "\n",
      "    accuracy                           0.89       375\n",
      "   macro avg       0.89      0.68      0.73       375\n",
      "weighted avg       0.89      0.89      0.87       375\n",
      "\n"
     ]
    }
   ],
   "source": [
    "# 불러오기\n",
    "from sklearn.linear_model import LogisticRegression\n",
    "\n",
    "# 선언하기\n",
    "model = LogisticRegression()\n",
    "\n",
    "# 학습하기\n",
    "model.fit(x_train,y_train)\n",
    "\n",
    "# 예측하기\n",
    "y_pred = model.predict(x_test)\n",
    "\n",
    "# 평가하기\n",
    "print(confusion_matrix(y_test,y_pred))\n",
    "print(classification_report(y_test,y_pred))"
   ]
  },
  {
   "cell_type": "markdown",
   "id": "c726c97c",
   "metadata": {},
   "source": [
    "- 여전히 recall이 매우 낮다."
   ]
  },
  {
   "cell_type": "code",
   "execution_count": 114,
   "id": "1374c6f8",
   "metadata": {},
   "outputs": [],
   "source": [
    "score['Logistic Reg'] = [precision_score(y_test, y_pred),\n",
    "                         recall_score(y_test, y_pred),\n",
    "                         accuracy_score(y_test, y_pred)]"
   ]
  },
  {
   "cell_type": "markdown",
   "id": "40e02070",
   "metadata": {},
   "source": [
    "#### Random Forest"
   ]
  },
  {
   "cell_type": "code",
   "execution_count": 115,
   "id": "1a20c9c2",
   "metadata": {},
   "outputs": [
    {
     "name": "stdout",
     "output_type": "stream",
     "text": [
      "[[314   1]\n",
      " [ 55   5]]\n",
      "              precision    recall  f1-score   support\n",
      "\n",
      "           0       0.85      1.00      0.92       315\n",
      "           1       0.83      0.08      0.15        60\n",
      "\n",
      "    accuracy                           0.85       375\n",
      "   macro avg       0.84      0.54      0.53       375\n",
      "weighted avg       0.85      0.85      0.80       375\n",
      "\n"
     ]
    }
   ],
   "source": [
    "# 불러오기\n",
    "from sklearn.ensemble import RandomForestClassifier\n",
    "\n",
    "# 선언하기\n",
    "model = RandomForestClassifier(random_state=2022)\n",
    "\n",
    "# 학습하기\n",
    "model.fit(x_train,y_train)\n",
    "\n",
    "# 예측하기\n",
    "y_pred = model.predict(x_test)\n",
    "\n",
    "# 평가하기\n",
    "print(confusion_matrix(y_test,y_pred))\n",
    "print(classification_report(y_test,y_pred))"
   ]
  },
  {
   "cell_type": "markdown",
   "id": "5f428344",
   "metadata": {},
   "source": [
    "- 여전히 recall이 매우 낮다."
   ]
  },
  {
   "cell_type": "code",
   "execution_count": 116,
   "id": "4d49c0f9",
   "metadata": {},
   "outputs": [],
   "source": [
    "score['Random Forest'] = [precision_score(y_test, y_pred),\n",
    "                          recall_score(y_test, y_pred),\n",
    "                          accuracy_score(y_test, y_pred)]"
   ]
  },
  {
   "cell_type": "markdown",
   "id": "3535e7e9",
   "metadata": {},
   "source": [
    "#### XGBoost"
   ]
  },
  {
   "cell_type": "code",
   "execution_count": 117,
   "id": "6b076f67",
   "metadata": {},
   "outputs": [
    {
     "name": "stdout",
     "output_type": "stream",
     "text": [
      "[23:03:51] WARNING: C:/Users/Administrator/workspace/xgboost-win64_release_1.5.1/src/learner.cc:1115: Starting in XGBoost 1.3.0, the default evaluation metric used with the objective 'binary:logistic' was changed from 'error' to 'logloss'. Explicitly set eval_metric if you'd like to restore the old behavior.\n",
      "[[308   7]\n",
      " [ 40  20]]\n",
      "              precision    recall  f1-score   support\n",
      "\n",
      "           0       0.89      0.98      0.93       315\n",
      "           1       0.74      0.33      0.46        60\n",
      "\n",
      "    accuracy                           0.87       375\n",
      "   macro avg       0.81      0.66      0.69       375\n",
      "weighted avg       0.86      0.87      0.85       375\n",
      "\n"
     ]
    }
   ],
   "source": [
    "# 불러오기\n",
    "from xgboost import XGBClassifier\n",
    "\n",
    "# 선언하기\n",
    "model = XGBClassifier(random_state=2022)\n",
    "\n",
    "# 학습하기\n",
    "model.fit(x_train,y_train)\n",
    "\n",
    "# 예측하기\n",
    "y_pred = model.predict(x_test)\n",
    "\n",
    "# 평가하기\n",
    "print(confusion_matrix(y_test,y_pred))\n",
    "print(classification_report(y_test,y_pred))"
   ]
  },
  {
   "cell_type": "markdown",
   "id": "d1c29cdb",
   "metadata": {},
   "source": [
    "- recall이 매우 낮음"
   ]
  },
  {
   "cell_type": "code",
   "execution_count": 118,
   "id": "2b534d29",
   "metadata": {},
   "outputs": [],
   "source": [
    "score['XGBoost'] = [precision_score(y_test, y_pred),\n",
    "                    recall_score(y_test, y_pred),\n",
    "                    accuracy_score(y_test, y_pred)]"
   ]
  },
  {
   "cell_type": "markdown",
   "id": "efeb2d77",
   "metadata": {},
   "source": [
    "## 5. 정리"
   ]
  },
  {
   "cell_type": "code",
   "execution_count": 119,
   "id": "0cf526e8",
   "metadata": {},
   "outputs": [
    {
     "data": {
      "text/plain": [
       "{'KNN': [0.42857142857142855, 0.15, 0.832],\n",
       " 'Logistic Reg': [0.88, 0.36666666666666664, 0.8906666666666667],\n",
       " 'Random Forest': [0.8333333333333334,\n",
       "  0.08333333333333333,\n",
       "  0.8506666666666667],\n",
       " 'XGBoost': [0.7407407407407407, 0.3333333333333333, 0.8746666666666667]}"
      ]
     },
     "execution_count": 119,
     "metadata": {},
     "output_type": "execute_result"
    }
   ],
   "source": [
    "score"
   ]
  },
  {
   "cell_type": "code",
   "execution_count": 120,
   "id": "d5e9399f",
   "metadata": {},
   "outputs": [
    {
     "data": {
      "text/plain": [
       "['KNN', 'Logistic Reg', 'Random Forest', 'XGBoost']"
      ]
     },
     "execution_count": 120,
     "metadata": {},
     "output_type": "execute_result"
    }
   ],
   "source": [
    "list(score.keys())"
   ]
  },
  {
   "cell_type": "markdown",
   "id": "94fa2f3a",
   "metadata": {},
   "source": [
    "## 6. Over/Under Sampling"
   ]
  },
  {
   "cell_type": "code",
   "execution_count": 122,
   "id": "ba40c8a0",
   "metadata": {},
   "outputs": [],
   "source": [
    "# 라이브러리 설치\n",
    "# !pip install imblearn"
   ]
  },
  {
   "cell_type": "code",
   "execution_count": 123,
   "id": "104585b1",
   "metadata": {},
   "outputs": [
    {
     "data": {
      "text/plain": [
       "0    1050\n",
       "1     200\n",
       "Name: Attrition, dtype: int64"
      ]
     },
     "execution_count": 123,
     "metadata": {},
     "output_type": "execute_result"
    }
   ],
   "source": [
    "# 원래 데이터 확인\n",
    "y.value_counts()"
   ]
  },
  {
   "cell_type": "code",
   "execution_count": 124,
   "id": "cccc431f",
   "metadata": {},
   "outputs": [],
   "source": [
    "# Over Sampling\n",
    "from imblearn.over_sampling import SMOTE\n",
    "\n",
    "smote = SMOTE(random_state=2022)\n",
    "x_over, y_over = smote.fit_resample(x, y)"
   ]
  },
  {
   "cell_type": "code",
   "execution_count": 125,
   "id": "f3ee2044",
   "metadata": {},
   "outputs": [
    {
     "data": {
      "text/plain": [
       "0    1050\n",
       "1    1050\n",
       "Name: Attrition, dtype: int64"
      ]
     },
     "execution_count": 125,
     "metadata": {},
     "output_type": "execute_result"
    }
   ],
   "source": [
    "# 확인\n",
    "y_over.value_counts()"
   ]
  },
  {
   "cell_type": "code",
   "execution_count": 126,
   "id": "73972637",
   "metadata": {},
   "outputs": [],
   "source": [
    "# Unser Sampling\n",
    "# from imblearn.under_sampling import ClusterCentroids\n",
    "\n",
    "# cc = ClusterCentroids(random_state=2022)\n",
    "# x_under, y_under = cc.fit_resample(x, y)"
   ]
  },
  {
   "cell_type": "code",
   "execution_count": 127,
   "id": "f6867b33",
   "metadata": {},
   "outputs": [],
   "source": [
    "# Over Sampling 된 데이터 train,test 분리\n",
    "from sklearn.model_selection import train_test_split\n",
    "\n",
    "x_train, x_test, y_train, y_test = train_test_split(x_over, y_over, test_size=0.3, random_state=2022)  "
   ]
  },
  {
   "cell_type": "markdown",
   "id": "bf00c170",
   "metadata": {},
   "source": [
    "## 7. 모델링"
   ]
  },
  {
   "cell_type": "markdown",
   "id": "eca98631",
   "metadata": {},
   "source": [
    "#### KNN"
   ]
  },
  {
   "cell_type": "code",
   "execution_count": 128,
   "id": "bbf01d11",
   "metadata": {},
   "outputs": [
    {
     "name": "stdout",
     "output_type": "stream",
     "text": [
      "[[199 106]\n",
      " [  4 321]]\n",
      "              precision    recall  f1-score   support\n",
      "\n",
      "           0       0.98      0.65      0.78       305\n",
      "           1       0.75      0.99      0.85       325\n",
      "\n",
      "    accuracy                           0.83       630\n",
      "   macro avg       0.87      0.82      0.82       630\n",
      "weighted avg       0.86      0.83      0.82       630\n",
      "\n"
     ]
    }
   ],
   "source": [
    "# 불러오기\n",
    "from sklearn.neighbors import KNeighborsClassifier\n",
    "\n",
    "# 선언하기\n",
    "model = KNeighborsClassifier()\n",
    "\n",
    "# 학습하기\n",
    "model.fit(x_train,y_train)\n",
    "\n",
    "# 예측하기\n",
    "y_pred = model.predict(x_test)\n",
    "\n",
    "# 평가하기\n",
    "print(confusion_matrix(y_test,y_pred))\n",
    "print(classification_report(y_test,y_pred))"
   ]
  },
  {
   "cell_type": "code",
   "execution_count": 129,
   "id": "557324cc",
   "metadata": {},
   "outputs": [],
   "source": [
    "# 성능정보 수집\n",
    "score['KNN_2'] = [precision_score(y_test, y_pred),\n",
    "                  recall_score(y_test, y_pred),\n",
    "                  accuracy_score(y_test, y_pred)]"
   ]
  },
  {
   "cell_type": "markdown",
   "id": "2f3da93b",
   "metadata": {},
   "source": [
    "#### Logistic Regression"
   ]
  },
  {
   "cell_type": "code",
   "execution_count": 130,
   "id": "df188246",
   "metadata": {},
   "outputs": [
    {
     "name": "stdout",
     "output_type": "stream",
     "text": [
      "[[288  17]\n",
      " [ 56 269]]\n",
      "              precision    recall  f1-score   support\n",
      "\n",
      "           0       0.84      0.94      0.89       305\n",
      "           1       0.94      0.83      0.88       325\n",
      "\n",
      "    accuracy                           0.88       630\n",
      "   macro avg       0.89      0.89      0.88       630\n",
      "weighted avg       0.89      0.88      0.88       630\n",
      "\n"
     ]
    }
   ],
   "source": [
    "from sklearn.linear_model import LogisticRegression\n",
    "\n",
    "model = LogisticRegression()\n",
    "\n",
    "model.fit(x_train,y_train)\n",
    "\n",
    "y_pred = model.predict(x_test)\n",
    "\n",
    "print(confusion_matrix(y_test,y_pred))\n",
    "print(classification_report(y_test,y_pred))"
   ]
  },
  {
   "cell_type": "code",
   "execution_count": 131,
   "id": "f6da3bdf",
   "metadata": {},
   "outputs": [],
   "source": [
    "# 성능정보 수집\n",
    "score['Logistic Reg_2'] = [precision_score(y_test, y_pred),\n",
    "                           recall_score(y_test, y_pred),\n",
    "                           accuracy_score(y_test, y_pred)]"
   ]
  },
  {
   "cell_type": "markdown",
   "id": "1e4007ca",
   "metadata": {},
   "source": [
    "#### Random Forest"
   ]
  },
  {
   "cell_type": "code",
   "execution_count": 132,
   "id": "430cb0de",
   "metadata": {},
   "outputs": [
    {
     "name": "stdout",
     "output_type": "stream",
     "text": [
      "[[291  14]\n",
      " [ 43 282]]\n",
      "              precision    recall  f1-score   support\n",
      "\n",
      "           0       0.87      0.95      0.91       305\n",
      "           1       0.95      0.87      0.91       325\n",
      "\n",
      "    accuracy                           0.91       630\n",
      "   macro avg       0.91      0.91      0.91       630\n",
      "weighted avg       0.91      0.91      0.91       630\n",
      "\n"
     ]
    }
   ],
   "source": [
    "from sklearn.ensemble import RandomForestClassifier\n",
    "\n",
    "model = RandomForestClassifier(random_state=2022)\n",
    "\n",
    "model.fit(x_train,y_train)\n",
    "\n",
    "y_pred = model.predict(x_test)\n",
    "\n",
    "print(confusion_matrix(y_test, y_pred))\n",
    "print(classification_report(y_test,y_pred))"
   ]
  },
  {
   "cell_type": "code",
   "execution_count": 133,
   "id": "e56c8006",
   "metadata": {},
   "outputs": [],
   "source": [
    "# 성능정보 수집\n",
    "score['Random Forest_2'] = [precision_score(y_test, y_pred),\n",
    "                            recall_score(y_test, y_pred),\n",
    "                            accuracy_score(y_test, y_pred)]"
   ]
  },
  {
   "cell_type": "markdown",
   "id": "d0cf279d",
   "metadata": {},
   "source": [
    "#### XGBoost"
   ]
  },
  {
   "cell_type": "code",
   "execution_count": 134,
   "id": "ae232334",
   "metadata": {},
   "outputs": [
    {
     "name": "stdout",
     "output_type": "stream",
     "text": [
      "[23:04:31] WARNING: C:/Users/Administrator/workspace/xgboost-win64_release_1.5.1/src/learner.cc:1115: Starting in XGBoost 1.3.0, the default evaluation metric used with the objective 'binary:logistic' was changed from 'error' to 'logloss'. Explicitly set eval_metric if you'd like to restore the old behavior.\n",
      "[[284  21]\n",
      " [ 33 292]]\n",
      "              precision    recall  f1-score   support\n",
      "\n",
      "           0       0.90      0.93      0.91       305\n",
      "           1       0.93      0.90      0.92       325\n",
      "\n",
      "    accuracy                           0.91       630\n",
      "   macro avg       0.91      0.91      0.91       630\n",
      "weighted avg       0.91      0.91      0.91       630\n",
      "\n"
     ]
    }
   ],
   "source": [
    "from xgboost import XGBClassifier\n",
    "\n",
    "model = XGBClassifier(random_state=2022)\n",
    "\n",
    "model.fit(x_train,y_train)\n",
    "\n",
    "y_pred = model.predict(x_test)\n",
    "\n",
    "print(confusion_matrix(y_test,y_pred))\n",
    "print(classification_report(y_test,y_pred))"
   ]
  },
  {
   "cell_type": "code",
   "execution_count": 135,
   "id": "bfde410f",
   "metadata": {},
   "outputs": [],
   "source": [
    "# 성능 정보 수집\n",
    "score['XGBoost_2'] = [precision_score(y_test, y_pred),\n",
    "                      recall_score(y_test, y_pred),\n",
    "                      accuracy_score(y_test, y_pred)]"
   ]
  },
  {
   "cell_type": "markdown",
   "id": "ea0eeb81",
   "metadata": {},
   "source": [
    "## 8. 성능비교"
   ]
  },
  {
   "cell_type": "code",
   "execution_count": 136,
   "id": "a90763db",
   "metadata": {},
   "outputs": [
    {
     "data": {
      "image/png": "[encoded data removed]",
      "text/plain": [
       "<Figure size 720x576 with 1 Axes>"
      ]
     },
     "metadata": {
      "image/png": {
       "height": 514,
       "width": 679
      },
      "needs_background": "light"
     },
     "output_type": "display_data"
    }
   ],
   "source": [
    "tmp = pd.DataFrame.from_dict(score, orient='index', columns=['Precision', 'Recall', 'Accuracy'])\n",
    "\n",
    "tmp.plot(kind='barh')\n",
    "fig = plt.gcf()\n",
    "fig.set_size_inches(10, 8)\n",
    "\n",
    "plt.title('Over Sampling Test', size=20, pad=20)\n",
    "plt.xlabel('Model')\n",
    "plt.ylabel('Performance')\n",
    "plt.show()"
   ]
  },
  {
   "cell_type": "markdown",
   "id": "9981920b",
   "metadata": {},
   "source": [
    "- over smapling 이후 정확도, 재현율, 정밀도 모두 상승하였다.\n",
    "- 재현율이 특히 많이 상승하였다."
   ]
  },
  {
   "cell_type": "code",
   "execution_count": null,
   "id": "7ae73765",
   "metadata": {},
   "outputs": [],
   "source": []
  }
 ],
 "metadata": {
  "kernelspec": {
   "display_name": "Python 3",
   "language": "python",
   "name": "python3"
  },
  "language_info": {
   "codemirror_mode": {
    "name": "ipython",
    "version": 3
   },
   "file_extension": ".py",
   "mimetype": "text/x-python",
   "name": "python",
   "nbconvert_exporter": "python",
   "pygments_lexer": "ipython3",
   "version": "3.8.8"
  }
 },
 "nbformat": 4,
 "nbformat_minor": 5
}
